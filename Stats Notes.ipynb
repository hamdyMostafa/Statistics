{
 "cells": [
  {
   "cell_type": "markdown",
   "metadata": {},
   "source": [
    "* You should care about probability and statistics because it is a very powerful tool for dealing with **uncertainty**.\n",
    "*  Probability Theory is a **mathematical** framework -**formalism**- for computing the probability of complex events. Under the assumption that **we know the probabilities of the basic events.**"
   ]
  },
  {
   "cell_type": "code",
   "execution_count": 1,
   "metadata": {
    "collapsed": true
   },
   "outputs": [],
   "source": [
    "import matplotlib.pyplot as plt\n",
    "import numpy as np\n",
    "import pandas as pd\n",
    "import ipywidgets as widgets"
   ]
  },
  {
   "cell_type": "markdown",
   "metadata": {},
   "source": [
    "## Simulating coin flips\n",
    "\n",
    "Instead of \"Heads\" and \"Tails\" we will use $x_i=1$ or $x_i=-1$ and consider the sum $S_k=x_1+x_2+\\cdots+x_k$. <br>\n",
    "$x_i=-1$ with probability $1/2$, $x_i=+1$ with probability $1/2$ <br>\n",
    "Our experiments will show that the sum $S_k$ is (almost) always in the range $\\big[-4\\sqrt{k},+4\\sqrt{k}\\big]$ "
   ]
  },
  {
   "cell_type": "code",
   "execution_count": 14,
   "metadata": {
    "collapsed": true
   },
   "outputs": [],
   "source": [
    "# Generate the sum of k coin flips, repeat that n times\n",
    "def generate_counts(k=1000,n=100):\n",
    "    X=2*(np.random.rand(k,n)>0.5)-1  # generate a kXn matrix of +-1 random numbers\n",
    "    S=np.sum(X,axis=0) \n",
    "    return S "
   ]
  },
  {
   "cell_type": "code",
   "execution_count": 17,
   "metadata": {},
   "outputs": [
    {
     "data": {
      "image/png": "[encoded data removed]",
      "text/plain": [
       "<matplotlib.figure.Figure at 0x1ee1859e550>"
      ]
     },
     "metadata": {},
     "output_type": "display_data"
    }
   ],
   "source": [
    "plt.figure(figsize=[13,3.5])\n",
    "for j in range(2,5):\n",
    "    k=10**j\n",
    "    counts=generate_counts(k=k,n=100)\n",
    "    plt.subplot(130+j-1)\n",
    "    plt.hist(counts,bins=10);\n",
    "    plt.xlim([-k,k])\n",
    "    d=4*np.sqrt(k)\n",
    "    plt.plot([-d,-d],[0,30],'r')\n",
    "    plt.plot([+d,+d],[0,30],'r')\n",
    "    plt.grid()\n",
    "    plt.title('%d flips, bound=+-%6.1f'%(k,d))\n",
    "plt.show()"
   ]
  },
  {
   "cell_type": "markdown",
   "metadata": {},
   "source": [
    "* ###### Note that the sum $S_{1000}$ is not **exactly** $0$, it is only **close to** $0$."
   ]
  },
  {
   "cell_type": "markdown",
   "metadata": {},
   "source": [
    "# What is probability theory?\n",
    "\n",
    "It is the math involved in **proving** (a precise version of) statements like: <br>\n",
    "$$ \\mbox{ If }\\;\\;k \\to \\infty,  \\frac{S_k}{k} \\to 0$$ <br>\n",
    "\n",
    "Using probability theory you can show that the probability that $$\\big| S_k \\big| \\geq 4\\sqrt{k}$$\n",
    "is smaller than $2 \\times 10^{-8}$ which is $0.000002\\%$ <br>\n",
    "\n",
    "In most cases, we can **approximate** probabilities using simulations (Monte-Carlo simulations)."
   ]
  },
  {
   "cell_type": "markdown",
   "metadata": {},
   "source": [
    "# What is statistics?\n",
    "Probability theory computes probabilities of complex events given the underlying base probabilities. Statistics takes us in the opposite direction. We are given **data** that was generated by a **Stochastic process**. We **infer** properties of the underlying base probabilities. Unlike probability -which is part of math- Statistics is about analyzing real-world data and drawing conclusions.\n"
   ]
  },
  {
   "cell_type": "markdown",
   "metadata": {},
   "source": [
    "# Example:  deciding whether a coin is biased.\n",
    "\n",
    "we discussed the distribution of the number of heads when flipping a fair coin many times. Let's turn the question around: we flip a coin 1000 times and get 570 heads. Can we conclude that the coin is biased (not fair) ? What can we conclude if we got 507 heads? <br>\n",
    "\n",
    "### The Logic of Statistical inference\n",
    "The answer uses the following logic.\n",
    "\n",
    "* Suppose that the coin is fair. \n",
    "* Use **probability theory** to compute the probability of getting at least 570 (or 507) heads.\n",
    "* If this probability is very small, then we can **reject** <font color='red'>with confidence</font> the hypothesis that the coin is fair."
   ]
  },
  {
   "cell_type": "markdown",
   "metadata": {},
   "source": [
    "If number of heads is $570$ then $S_{1000} = 570-430 = 140$  \n",
    "It is very unlikely that the coin is unbiased since $|S_{1000}| > 4\\sqrt{k} \\approx 126.5$\n",
    "\n",
    "If the number is 507 heads = 493 tails $ \\Rightarrow S_n = 14$,       $\\;\\;\\;14 \\ll 126.5$ <br>\n",
    "We cannot conclude that coin is biased."
   ]
  },
  {
   "cell_type": "markdown",
   "metadata": {},
   "source": [
    "# Conclusion\n",
    "The probability that an unbiased coin would generate a sequence with 570 or more heads is extremely small. From which we can conclude, <font color='red'>with high confidence</font>, that the coin **is** biased. <br>\n",
    "On the other hand, $\\big| S_{1000} \\big | \\geq 507$ is quite likely. So getting 507 heads does not provide evidence that the coin is biased."
   ]
  },
  {
   "cell_type": "markdown",
   "metadata": {},
   "source": [
    "### The three card puzzle"
   ]
  },
  {
   "cell_type": "markdown",
   "metadata": {},
   "source": [
    "Suppose we have three cards in a hat:\n",
    "* <span style=\"color:red\">**R**</span><span style=\"color:blue\">**B**</span> - One card is painted <span style=\"color:blue\">blue</span> on one side and <span style=\"color:red\">red</span> on the other.\n",
    "\n",
    "* <span style=\"color:blue\">**BB**</span> - One card is painted <span style=\"color:blue\">blue</span> on both sides.\n",
    "* <span style=\"color:red\">**RR**</span> - One card is painted <span style=\"color:red\">red</span> on both sides. <br>\n",
    "\n",
    "\n",
    "* I pick one of the three cards at random, flip it to a random side, and place it on the table.\n",
    "* $U$ be the color of the side of the card facing up. (<span style=\"color:blue\">**B**</span> or <span style=\"color:red\">**R**</span>)\n"
   ]
  },
  {
   "cell_type": "markdown",
   "metadata": {},
   "source": [
    "## Do you want to bet?\n",
    "  * If the other side of the card has a different I pay you \\$1, \n",
    "  * If the other side has the same color you pay me \\$1."
   ]
  },
  {
   "cell_type": "markdown",
   "metadata": {},
   "source": [
    "## Why is this a fair bet ?\n",
    "* Suppose $U$ is <span style=\"color:red\">**R**</span>. \n",
    "* Then the card is either <span style=\"color:red\">**RR**</span> or <span style=\"color:red\">**R**</span><span style=\"color:blue\">**B**</span>.\n",
    "* Therefor the other side can be either  <span style=\"color:red\">**R**</span> or <span style=\"color:blue\">**B**</span>\n",
    "* Therefor in this case the odds are equal.\n",
    "* A similar argument holds for the case where $U$ is <span style=\"color:blue\">**B**</span>"
   ]
  },
  {
   "cell_type": "markdown",
   "metadata": {},
   "source": [
    "## Lets use a monte-carlo simulation\n",
    "The code below selects one of the three cards at random and selects a random side to be \"up\".\n",
    "\n",
    "It then prints the card and indicates if the two sides have the same or different colors."
   ]
  },
  {
   "cell_type": "code",
   "execution_count": 54,
   "metadata": {},
   "outputs": [
    {
     "name": "stdout",
     "output_type": "stream",
     "text": [
      "\u001b[44mB\u001b[0m\u001b[44mB\u001b[0m same       \u001b[44mB\u001b[0m\u001b[44mB\u001b[0m same       \u001b[44mB\u001b[0m\u001b[44mB\u001b[0m same       \u001b[41mR\u001b[0m\u001b[41mR\u001b[0m same       \u001b[44mB\u001b[0m\u001b[41mR\u001b[0m different  \n",
      "\u001b[41mR\u001b[0m\u001b[44mB\u001b[0m different  \u001b[41mR\u001b[0m\u001b[41mR\u001b[0m same       \u001b[41mR\u001b[0m\u001b[41mR\u001b[0m same       \u001b[41mR\u001b[0m\u001b[41mR\u001b[0m same       \u001b[41mR\u001b[0m\u001b[41mR\u001b[0m same       \n",
      "\u001b[41mR\u001b[0m\u001b[41mR\u001b[0m same       \u001b[41mR\u001b[0m\u001b[41mR\u001b[0m same       \u001b[41mR\u001b[0m\u001b[41mR\u001b[0m same       \u001b[44mB\u001b[0m\u001b[44mB\u001b[0m same       \u001b[41mR\u001b[0m\u001b[44mB\u001b[0m different  \n",
      "\u001b[41mR\u001b[0m\u001b[44mB\u001b[0m different  \u001b[44mB\u001b[0m\u001b[44mB\u001b[0m same       \u001b[44mB\u001b[0m\u001b[41mR\u001b[0m different  \u001b[44mB\u001b[0m\u001b[44mB\u001b[0m same       \u001b[44mB\u001b[0m\u001b[44mB\u001b[0m same       \n",
      "\u001b[44mB\u001b[0m\u001b[44mB\u001b[0m same       \u001b[44mB\u001b[0m\u001b[41mR\u001b[0m different  \u001b[41mR\u001b[0m\u001b[44mB\u001b[0m different  \u001b[44mB\u001b[0m\u001b[41mR\u001b[0m different  \u001b[41mR\u001b[0m\u001b[41mR\u001b[0m same       \n",
      "\u001b[41mR\u001b[0m\u001b[41mR\u001b[0m same       \u001b[44mB\u001b[0m\u001b[44mB\u001b[0m same       \u001b[41mR\u001b[0m\u001b[44mB\u001b[0m different  \u001b[41mR\u001b[0m\u001b[41mR\u001b[0m same       \u001b[44mB\u001b[0m\u001b[44mB\u001b[0m same       \n",
      "\u001b[41mR\u001b[0m\u001b[41mR\u001b[0m same       \u001b[41mR\u001b[0m\u001b[41mR\u001b[0m same       \u001b[41mR\u001b[0m\u001b[44mB\u001b[0m different  \u001b[44mB\u001b[0m\u001b[41mR\u001b[0m different  \u001b[44mB\u001b[0m\u001b[44mB\u001b[0m same       \n",
      "\u001b[44mB\u001b[0m\u001b[44mB\u001b[0m same       \u001b[41mR\u001b[0m\u001b[41mR\u001b[0m same       \u001b[44mB\u001b[0m\u001b[41mR\u001b[0m different  \u001b[41mR\u001b[0m\u001b[41mR\u001b[0m same       \u001b[44mB\u001b[0m\u001b[41mR\u001b[0m different  \n",
      "\u001b[41mR\u001b[0m\u001b[41mR\u001b[0m same       \u001b[44mB\u001b[0m\u001b[41mR\u001b[0m different  \u001b[44mB\u001b[0m\u001b[41mR\u001b[0m different  \u001b[41mR\u001b[0m\u001b[41mR\u001b[0m same       \u001b[41mR\u001b[0m\u001b[44mB\u001b[0m different  \n",
      "\u001b[41mR\u001b[0m\u001b[44mB\u001b[0m different  \u001b[41mR\u001b[0m\u001b[41mR\u001b[0m same       \u001b[41mR\u001b[0m\u001b[41mR\u001b[0m same       \u001b[41mR\u001b[0m\u001b[41mR\u001b[0m same       \u001b[44mB\u001b[0m\u001b[44mB\u001b[0m same       \n",
      "\n",
      "{'same': 33, 'different': 17}\n"
     ]
    }
   ],
   "source": [
    "from termcolor import colored\n",
    "\n",
    "\n",
    "Cards=[(colored('R', on_color='on_red'),colored('B', on_color='on_blue')),(colored('R', on_color='on_red'), \\\n",
    "        colored('R', on_color ='on_red')),(colored('B', on_color='on_blue'),colored('B', on_color='on_blue'))]\n",
    "\n",
    "counts={'same':0,'different':0}\n",
    "\n",
    "for j in range(50):\n",
    "    i=np.random.randint(3)  # Select a random card\n",
    "    C=Cards[i]\n",
    "    side=np.random.randint(2) # flip the card\n",
    "    \n",
    "    same= 'same' if C[0]==C[1] else 'different'  # count the number of times the two sides are the same or different.\n",
    "    counts[same]+=1\n",
    "    \n",
    "    if(side==1):        # select which side to be \"up\" for visualization purposes\n",
    "        C=(C[1],C[0])\n",
    "        \n",
    "    print(''.join(C)+' %-11s'%same, end='')\n",
    "    \n",
    "    if (j+1)%5==0:\n",
    "        print()\n",
    "\n",
    "        \n",
    "print()\n",
    "print(counts)"
   ]
  },
  {
   "cell_type": "markdown",
   "metadata": {},
   "source": [
    "## The simulation does not agree with the argument\n",
    " * In Simulation: the two sides have the same color about **twice** the number of times that they have different color.\n",
    " * you are twice as likely to lose as you are to win.\n",
    " * On average you lose 33 cents per iteration:  \n",
    "$\\$1\\times(2/3)-\\$1\\times(1/3)$"
   ]
  },
  {
   "cell_type": "markdown",
   "metadata": {},
   "source": [
    "## Alternative argument\n",
    "If we pick a card at random 2/3 of the time we pick a card where the two sides have the same color, and only 1/3 where the color is different. <br>\n",
    "\n",
    "To be sure of your argument, you need more formalism. that's what probability theory provides."
   ]
  },
  {
   "cell_type": "markdown",
   "metadata": {},
   "source": [
    "## A short History: Games of chance VS Strength of evidence & degrees of belief"
   ]
  },
  {
   "cell_type": "markdown",
   "metadata": {},
   "source": [
    "* **The frequentist point of view** : to assign probabilities to the outcomes of a game/experiment is the same as saying if we repeat the game many many times, the long term frequencies of the outcomes converge to the probabilities. <br>\n",
    "\n",
    "* **Combining Evidence**: Requires combining pieces of information, Most information is uncertain, Different pieces of information have different relevence [Ex: Diagnosing a patient], A popular approcach is Bayesian Statistics."
   ]
  },
  {
   "cell_type": "code",
   "execution_count": 77,
   "metadata": {},
   "outputs": [
    {
     "name": "stdout",
     "output_type": "stream",
     "text": [
      "\u001b[44m4\u001b[0m\u001b[42m1\u001b[0m\u001b[42m1\u001b[0m\u001b[43m3\u001b[0m\u001b[43m3\u001b[0m\u001b[42m1\u001b[0m\u001b[44m4\u001b[0m\u001b[43m3\u001b[0m\u001b[43m3\u001b[0m\u001b[43m3\u001b[0m\u001b[44m4\u001b[0m\u001b[43m3\u001b[0m\u001b[44m4\u001b[0m\u001b[44m4\u001b[0m\u001b[43m3\u001b[0m\u001b[44m4\u001b[0m\u001b[43m3\u001b[0m\u001b[43m3\u001b[0m\u001b[43m3\u001b[0m\u001b[44m4\u001b[0m\u001b[44m4\u001b[0m\u001b[44m4\u001b[0m\u001b[42m1\u001b[0m\u001b[43m3\u001b[0m\u001b[44m4\u001b[0m\u001b[44m4\u001b[0m\u001b[42m1\u001b[0m\u001b[42m1\u001b[0m\u001b[43m3\u001b[0m\u001b[44m4\u001b[0m\u001b[44m4\u001b[0m\u001b[42m1\u001b[0m\u001b[44m4\u001b[0m\u001b[44m4\u001b[0m\u001b[42m1\u001b[0m\u001b[43m3\u001b[0m\u001b[43m3\u001b[0m\u001b[43m3\u001b[0m\u001b[41m6\u001b[0m\u001b[41m6\u001b[0m\u001b[44m4\u001b[0m\u001b[44m4\u001b[0m\u001b[42m1\u001b[0m\u001b[43m3\u001b[0m\u001b[44m4\u001b[0m\u001b[44m4\u001b[0m\u001b[43m3\u001b[0m\u001b[43m3\u001b[0m\u001b[44m4\u001b[0m\u001b[43m3\u001b[0m\u001b[43m3\u001b[0m\u001b[43m3\u001b[0m\u001b[41m6\u001b[0m\u001b[44m4\u001b[0m\u001b[43m3\u001b[0m\u001b[42m1\u001b[0m\u001b[42m1\u001b[0m\u001b[41m6\u001b[0m\u001b[44m4\u001b[0m\u001b[44m4\u001b[0m\u001b[43m3\u001b[0m\u001b[43m3\u001b[0m\u001b[44m4\u001b[0m\u001b[44m4\u001b[0m\u001b[44m4\u001b[0m\u001b[44m4\u001b[0m\u001b[41m6\u001b[0m\u001b[44m4\u001b[0m\u001b[41m6\u001b[0m\u001b[44m4\u001b[0m\u001b[44m4\u001b[0m\u001b[44m4\u001b[0m\u001b[44m4\u001b[0m\u001b[44m4\u001b[0m\u001b[43m3\u001b[0m\u001b[42m1\u001b[0m\u001b[43m3\u001b[0m\u001b[43m3\u001b[0m\u001b[41m6\u001b[0m\u001b[44m4\u001b[0m\u001b[42m1\u001b[0m\u001b[44m4\u001b[0m\u001b[42m1\u001b[0m\u001b[44m4\u001b[0m\u001b[42m1\u001b[0m\u001b[41m6\u001b[0m\u001b[43m3\u001b[0m\u001b[44m4\u001b[0m\u001b[44m4\u001b[0m\u001b[41m6\u001b[0m\u001b[44m4\u001b[0m\u001b[43m3\u001b[0m\u001b[42m1\u001b[0m\u001b[43m3\u001b[0m\u001b[42m1\u001b[0m\u001b[41m6\u001b[0m\u001b[44m4\u001b[0m\u001b[44m4\u001b[0m\u001b[44m4\u001b[0m\u001b[43m3\u001b[0m\u001b[44m4\u001b[0m\u001b[42m1\u001b[0m\u001b[41m6\u001b[0m\u001b[41m6\u001b[0m\u001b[41m6\u001b[0m\u001b[43m3\u001b[0m\u001b[42m1\u001b[0m\u001b[41m6\u001b[0m\u001b[44m4\u001b[0m\u001b[43m3\u001b[0m\u001b[44m4\u001b[0m\u001b[44m4\u001b[0m\u001b[44m4\u001b[0m\u001b[42m1\u001b[0m\u001b[44m4\u001b[0m\u001b[42m1\u001b[0m\u001b[42m1\u001b[0m\u001b[42m1\u001b[0m\u001b[43m3\u001b[0m\u001b[44m4\u001b[0m\u001b[42m1\u001b[0m\u001b[43m3\u001b[0m\u001b[42m1\u001b[0m\u001b[43m3\u001b[0m\u001b[41m6\u001b[0m\u001b[44m4\u001b[0m\u001b[42m1\u001b[0m\u001b[42m1\u001b[0m\u001b[44m4\u001b[0m\u001b[42m1\u001b[0m\u001b[42m1\u001b[0m\u001b[44m4\u001b[0m\u001b[42m1\u001b[0m\u001b[43m3\u001b[0m\u001b[42m1\u001b[0m\u001b[42m1\u001b[0m\u001b[41m6\u001b[0m\u001b[41m6\u001b[0m\u001b[44m4\u001b[0m\u001b[44m4\u001b[0m\u001b[44m4\u001b[0m\u001b[44m4\u001b[0m\u001b[44m4\u001b[0m\u001b[43m3\u001b[0m\u001b[41m6\u001b[0m\u001b[44m4\u001b[0m\u001b[44m4\u001b[0m\u001b[41m6\u001b[0m\u001b[44m4\u001b[0m\u001b[44m4\u001b[0m\u001b[42m1\u001b[0m\u001b[44m4\u001b[0m\u001b[43m3\u001b[0m\u001b[44m4\u001b[0m\u001b[44m4\u001b[0m\u001b[43m3\u001b[0m\u001b[44m4\u001b[0m\u001b[41m6\u001b[0m\u001b[42m1\u001b[0m\u001b[42m1\u001b[0m\u001b[42m1\u001b[0m\u001b[43m3\u001b[0m\u001b[42m1\u001b[0m\u001b[43m3\u001b[0m\u001b[42m1\u001b[0m\u001b[43m3\u001b[0m\u001b[43m3\u001b[0m\u001b[44m4\u001b[0m\u001b[43m3\u001b[0m\u001b[42m1\u001b[0m\u001b[44m4\u001b[0m\u001b[44m4\u001b[0m\u001b[42m1\u001b[0m\u001b[44m4\u001b[0m\u001b[44m4\u001b[0m\u001b[44m4\u001b[0m\u001b[41m6\u001b[0m\u001b[44m4\u001b[0m\u001b[43m3\u001b[0m\u001b[44m4\u001b[0m\u001b[44m4\u001b[0m\u001b[44m4\u001b[0m\u001b[43m3\u001b[0m\u001b[44m4\u001b[0m\u001b[44m4\u001b[0m\u001b[43m3\u001b[0m\u001b[42m1\u001b[0m\u001b[42m1\u001b[0m\u001b[44m4\u001b[0m\u001b[41m6\u001b[0m\u001b[42m1\u001b[0m\u001b[44m4\u001b[0m\u001b[41m6\u001b[0m\u001b[44m4\u001b[0m\u001b[42m1\u001b[0m\u001b[43m3\u001b[0m\u001b[44m4\u001b[0m\u001b[44m4\u001b[0m\u001b[44m4\u001b[0m\u001b[42m1\u001b[0m\u001b[43m3\u001b[0m\u001b[44m4\u001b[0m\u001b[43m3\u001b[0m\u001b[44m4\u001b[0m\u001b[44m4\u001b[0m\u001b[44m4\u001b[0m\u001b[44m4\u001b[0m\u001b[42m1\u001b[0m\u001b[44m4\u001b[0m\u001b[42m1\u001b[0m\u001b[44m4\u001b[0m\u001b[44m4\u001b[0m\u001b[44m4\u001b[0m\u001b[44m4\u001b[0m\u001b[43m3\u001b[0m\u001b[44m4\u001b[0m\u001b[43m3\u001b[0m\u001b[43m3\u001b[0m\u001b[43m3\u001b[0m\u001b[43m3\u001b[0m\u001b[42m1\u001b[0m\u001b[44m4\u001b[0m\u001b[44m4\u001b[0m\u001b[41m6\u001b[0m\u001b[44m4\u001b[0m\u001b[44m4\u001b[0m\u001b[43m3\u001b[0m\u001b[44m4\u001b[0m\u001b[43m3\u001b[0m\u001b[43m3\u001b[0m\u001b[42m1\u001b[0m\u001b[44m4\u001b[0m\u001b[44m4\u001b[0m\u001b[43m3\u001b[0m\u001b[44m4\u001b[0m\u001b[44m4\u001b[0m\u001b[43m3\u001b[0m\u001b[43m3\u001b[0m\u001b[44m4\u001b[0m\u001b[44m4\u001b[0m\u001b[42m1\u001b[0m\u001b[43m3\u001b[0m\u001b[43m3\u001b[0m\u001b[43m3\u001b[0m\u001b[44m4\u001b[0m\u001b[44m4\u001b[0m\u001b[44m4\u001b[0m\u001b[43m3\u001b[0m\u001b[43m3\u001b[0m\u001b[41m6\u001b[0m\u001b[43m3\u001b[0m\u001b[44m4\u001b[0m\u001b[43m3\u001b[0m\u001b[42m1\u001b[0m\u001b[43m3\u001b[0m\u001b[41m6\u001b[0m\u001b[44m4\u001b[0m\u001b[42m1\u001b[0m\u001b[44m4\u001b[0m\u001b[43m3\u001b[0m\u001b[44m4\u001b[0m\u001b[44m4\u001b[0m\u001b[43m3\u001b[0m\u001b[41m6\u001b[0m\u001b[44m4\u001b[0m\u001b[44m4\u001b[0m\u001b[44m4\u001b[0m\u001b[41m6\u001b[0m\u001b[42m1\u001b[0m\u001b[43m3\u001b[0m\u001b[43m3\u001b[0m\u001b[43m3\u001b[0m\u001b[44m4\u001b[0m\u001b[42m1\u001b[0m\u001b[43m3\u001b[0m\u001b[43m3\u001b[0m\u001b[43m3\u001b[0m\u001b[42m1\u001b[0m\u001b[43m3\u001b[0m\u001b[44m4\u001b[0m\u001b[44m4\u001b[0m\u001b[43m3\u001b[0m\u001b[44m4\u001b[0m\u001b[43m3\u001b[0m\u001b[44m4\u001b[0m\u001b[44m4\u001b[0m\u001b[42m1\u001b[0m\u001b[44m4\u001b[0m\u001b[42m1\u001b[0m\u001b[44m4\u001b[0m\u001b[44m4\u001b[0m\u001b[44m4\u001b[0m\u001b[42m1\u001b[0m\u001b[43m3\u001b[0m\u001b[44m4\u001b[0m\u001b[42m1\u001b[0m\u001b[43m3\u001b[0m\u001b[44m4\u001b[0m\u001b[42m1\u001b[0m\u001b[44m4\u001b[0m\u001b[44m4\u001b[0m\u001b[42m1\u001b[0m\u001b[44m4\u001b[0m\u001b[43m3\u001b[0m\u001b[43m3\u001b[0m\u001b[41m6\u001b[0m\u001b[43m3\u001b[0m\u001b[44m4\u001b[0m\u001b[42m1\u001b[0m\u001b[42m1\u001b[0m\u001b[43m3\u001b[0m\u001b[41m6\u001b[0m\u001b[44m4\u001b[0m\u001b[43m3\u001b[0m\u001b[43m3\u001b[0m\u001b[44m4\u001b[0m\u001b[44m4\u001b[0m\u001b[44m4\u001b[0m\u001b[42m1\u001b[0m\u001b[41m6\u001b[0m\u001b[41m6\u001b[0m\u001b[43m3\u001b[0m\u001b[43m3\u001b[0m\u001b[42m1\u001b[0m\u001b[44m4\u001b[0m\u001b[42m1\u001b[0m\u001b[42m1\u001b[0m\u001b[41m6\u001b[0m\u001b[44m4\u001b[0m\u001b[44m4\u001b[0m\u001b[44m4\u001b[0m\u001b[43m3\u001b[0m\u001b[44m4\u001b[0m\u001b[44m4\u001b[0m\u001b[44m4\u001b[0m\u001b[43m3\u001b[0m\u001b[43m3\u001b[0m\u001b[42m1\u001b[0m\u001b[42m1\u001b[0m\u001b[43m3\u001b[0m\u001b[41m6\u001b[0m\u001b[43m3\u001b[0m\u001b[43m3\u001b[0m\u001b[44m4\u001b[0m\u001b[43m3\u001b[0m\u001b[43m3\u001b[0m\u001b[44m4\u001b[0m\u001b[43m3\u001b[0m\u001b[44m4\u001b[0m\u001b[44m4\u001b[0m\u001b[43m3\u001b[0m\u001b[43m3\u001b[0m\u001b[44m4\u001b[0m\u001b[44m4\u001b[0m\u001b[43m3\u001b[0m\u001b[41m6\u001b[0m\u001b[44m4\u001b[0m\u001b[44m4\u001b[0m\u001b[43m3\u001b[0m\u001b[44m4\u001b[0m\u001b[43m3\u001b[0m\u001b[41m6\u001b[0m\u001b[43m3\u001b[0m\u001b[42m1\u001b[0m\u001b[42m1\u001b[0m\u001b[43m3\u001b[0m\u001b[43m3\u001b[0m\u001b[41m6\u001b[0m\u001b[41m6\u001b[0m\u001b[43m3\u001b[0m\u001b[44m4\u001b[0m\u001b[42m1\u001b[0m\u001b[42m1\u001b[0m\u001b[43m3\u001b[0m\u001b[44m4\u001b[0m\u001b[43m3\u001b[0m\u001b[42m1\u001b[0m\u001b[44m4\u001b[0m\u001b[43m3\u001b[0m\u001b[43m3\u001b[0m\u001b[44m4\u001b[0m\u001b[44m4\u001b[0m\u001b[43m3\u001b[0m\u001b[44m4\u001b[0m\u001b[42m1\u001b[0m\u001b[43m3\u001b[0m\u001b[44m4\u001b[0m\u001b[44m4\u001b[0m\u001b[43m3\u001b[0m\u001b[44m4\u001b[0m\u001b[44m4\u001b[0m\u001b[42m1\u001b[0m\u001b[43m3\u001b[0m\u001b[44m4\u001b[0m\u001b[44m4\u001b[0m\u001b[42m1\u001b[0m\u001b[43m3\u001b[0m\u001b[43m3\u001b[0m\u001b[43m3\u001b[0m\u001b[43m3\u001b[0m\u001b[43m3\u001b[0m\u001b[43m3\u001b[0m\u001b[44m4\u001b[0m\u001b[44m4\u001b[0m\u001b[44m4\u001b[0m\u001b[42m1\u001b[0m\u001b[42m1\u001b[0m\u001b[44m4\u001b[0m\u001b[42m1\u001b[0m\u001b[44m4\u001b[0m\u001b[42m1\u001b[0m\u001b[43m3\u001b[0m\u001b[42m1\u001b[0m\u001b[41m6\u001b[0m\u001b[44m4\u001b[0m\u001b[43m3\u001b[0m\u001b[43m3\u001b[0m\u001b[42m1\u001b[0m\u001b[41m6\u001b[0m\u001b[44m4\u001b[0m\u001b[41m6\u001b[0m\u001b[43m3\u001b[0m\u001b[44m4\u001b[0m\u001b[44m4\u001b[0m\u001b[44m4\u001b[0m\u001b[42m1\u001b[0m\u001b[43m3\u001b[0m\u001b[44m4\u001b[0m\u001b[44m4\u001b[0m\u001b[44m4\u001b[0m\u001b[41m6\u001b[0m\u001b[42m1\u001b[0m\u001b[44m4\u001b[0m\u001b[44m4\u001b[0m\u001b[43m3\u001b[0m\u001b[42m1\u001b[0m\u001b[42m1\u001b[0m\u001b[44m4\u001b[0m\u001b[43m3\u001b[0m\u001b[44m4\u001b[0m\u001b[43m3\u001b[0m\u001b[44m4\u001b[0m\u001b[44m4\u001b[0m\u001b[44m4\u001b[0m\u001b[44m4\u001b[0m\u001b[43m3\u001b[0m\u001b[43m3\u001b[0m\u001b[43m3\u001b[0m\u001b[43m3\u001b[0m\u001b[44m4\u001b[0m\u001b[42m1\u001b[0m\u001b[44m4\u001b[0m\u001b[44m4\u001b[0m\u001b[43m3\u001b[0m\u001b[43m3\u001b[0m\u001b[43m3\u001b[0m\u001b[43m3\u001b[0m\u001b[43m3\u001b[0m\u001b[44m4\u001b[0m\u001b[43m3\u001b[0m\u001b[43m3\u001b[0m\u001b[44m4\u001b[0m\u001b[44m4\u001b[0m\u001b[43m3\u001b[0m\u001b[43m3\u001b[0m\u001b[44m4\u001b[0m\u001b[42m1\u001b[0m\u001b[43m3\u001b[0m\u001b[42m1\u001b[0m\u001b[43m3\u001b[0m\u001b[42m1\u001b[0m\u001b[43m3\u001b[0m\u001b[44m4\u001b[0m\u001b[42m1\u001b[0m\u001b[41m6\u001b[0m\u001b[44m4\u001b[0m\u001b[44m4\u001b[0m\u001b[43m3\u001b[0m\u001b[44m4\u001b[0m\u001b[43m3\u001b[0m\u001b[43m3\u001b[0m\u001b[44m4\u001b[0m\u001b[43m3\u001b[0m\u001b[44m4\u001b[0m\u001b[43m3\u001b[0m\u001b[44m4\u001b[0m\u001b[43m3\u001b[0m\u001b[43m3\u001b[0m\u001b[43m3\u001b[0m\u001b[44m4\u001b[0m\u001b[44m4\u001b[0m\u001b[44m4\u001b[0m\u001b[43m3\u001b[0m\u001b[42m1\u001b[0m\u001b[44m4\u001b[0m\u001b[43m3\u001b[0m\u001b[44m4\u001b[0m\u001b[44m4\u001b[0m\u001b[42m1\u001b[0m\u001b[43m3\u001b[0m\u001b[42m1\u001b[0m\u001b[43m3\u001b[0m\u001b[42m1\u001b[0m\u001b[44m4\u001b[0m\u001b[43m3\u001b[0m\u001b[43m3\u001b[0m\u001b[42m1\u001b[0m\u001b[44m4\u001b[0m\u001b[43m3\u001b[0m\u001b[44m4\u001b[0m\u001b[42m1\u001b[0m\u001b[41m6\u001b[0m\u001b[43m3\u001b[0m\u001b[43m3\u001b[0m\u001b[43m3\u001b[0m\u001b[41m6\u001b[0m\u001b[44m4\u001b[0m\u001b[42m1\u001b[0m\u001b[42m1\u001b[0m\u001b[43m3\u001b[0m\u001b[43m3\u001b[0m\u001b[44m4\u001b[0m\u001b[43m3\u001b[0m\u001b[43m3\u001b[0m\u001b[44m4\u001b[0m\u001b[44m4\u001b[0m\u001b[41m6\u001b[0m\u001b[44m4\u001b[0m\u001b[42m1\u001b[0m\u001b[42m1\u001b[0m\u001b[43m3\u001b[0m\u001b[41m6\u001b[0m\u001b[44m4\u001b[0m\u001b[44m4\u001b[0m\u001b[44m4\u001b[0m\u001b[42m1\u001b[0m\u001b[41m6\u001b[0m\u001b[44m4\u001b[0m\u001b[43m3\u001b[0m\u001b[44m4\u001b[0m\u001b[44m4\u001b[0m\u001b[42m1\u001b[0m\u001b[43m3\u001b[0m\u001b[44m4\u001b[0m\u001b[41m6\u001b[0m\u001b[44m4\u001b[0m\u001b[44m4\u001b[0m\u001b[44m4\u001b[0m\u001b[43m3\u001b[0m\u001b[42m1\u001b[0m\u001b[41m6\u001b[0m\u001b[44m4\u001b[0m\u001b[42m1\u001b[0m\u001b[42m1\u001b[0m\u001b[41m6\u001b[0m\u001b[44m4\u001b[0m\u001b[41m6\u001b[0m\u001b[43m3\u001b[0m\u001b[42m1\u001b[0m\u001b[42m1\u001b[0m\u001b[42m1\u001b[0m\u001b[41m6\u001b[0m\u001b[43m3\u001b[0m\u001b[43m3\u001b[0m\u001b[42m1\u001b[0m\u001b[42m1\u001b[0m\u001b[44m4\u001b[0m\u001b[44m4\u001b[0m\u001b[43m3\u001b[0m\u001b[43m3\u001b[0m\u001b[42m1\u001b[0m\u001b[42m1\u001b[0m\u001b[44m4\u001b[0m\u001b[44m4\u001b[0m\u001b[43m3\u001b[0m\u001b[42m1\u001b[0m\u001b[43m3\u001b[0m\u001b[44m4\u001b[0m\u001b[41m6\u001b[0m\u001b[44m4\u001b[0m\u001b[42m1\u001b[0m\u001b[44m4\u001b[0m\u001b[44m4\u001b[0m\u001b[42m1\u001b[0m\u001b[44m4\u001b[0m\u001b[44m4\u001b[0m\u001b[42m1\u001b[0m\u001b[42m1\u001b[0m\u001b[43m3\u001b[0m\u001b[44m4\u001b[0m\u001b[41m6\u001b[0m\u001b[43m3\u001b[0m\u001b[41m6\u001b[0m\u001b[43m3\u001b[0m\u001b[43m3\u001b[0m\u001b[44m4\u001b[0m\u001b[43m3\u001b[0m\u001b[42m1\u001b[0m\u001b[41m6\u001b[0m\u001b[44m4\u001b[0m\u001b[43m3\u001b[0m\u001b[42m1\u001b[0m\u001b[43m3\u001b[0m\u001b[43m3\u001b[0m\u001b[42m1\u001b[0m\u001b[43m3\u001b[0m\u001b[44m4\u001b[0m\u001b[44m4\u001b[0m\u001b[42m1\u001b[0m\u001b[43m3\u001b[0m\u001b[44m4\u001b[0m\u001b[44m4\u001b[0m\u001b[41m6\u001b[0m\u001b[44m4\u001b[0m\u001b[43m3\u001b[0m\u001b[42m1\u001b[0m\u001b[44m4\u001b[0m\u001b[42m1\u001b[0m\u001b[44m4\u001b[0m\u001b[42m1\u001b[0m\u001b[42m1\u001b[0m\u001b[44m4\u001b[0m\u001b[43m3\u001b[0m\u001b[43m3\u001b[0m\u001b[44m4\u001b[0m\u001b[44m4\u001b[0m\u001b[43m3\u001b[0m\u001b[42m1\u001b[0m\u001b[44m4\u001b[0m\u001b[44m4\u001b[0m\u001b[41m6\u001b[0m\u001b[44m4\u001b[0m\u001b[43m3\u001b[0m\u001b[44m4\u001b[0m\u001b[44m4\u001b[0m\u001b[44m4\u001b[0m\u001b[41m6\u001b[0m\u001b[43m3\u001b[0m\u001b[43m3\u001b[0m\u001b[43m3\u001b[0m\u001b[44m4\u001b[0m\u001b[42m1\u001b[0m\u001b[43m3\u001b[0m\u001b[44m4\u001b[0m\u001b[44m4\u001b[0m\u001b[43m3\u001b[0m\u001b[42m1\u001b[0m\u001b[44m4\u001b[0m\u001b[42m1\u001b[0m\u001b[42m1\u001b[0m\u001b[41m6\u001b[0m\u001b[41m6\u001b[0m\u001b[43m3\u001b[0m\u001b[42m1\u001b[0m\u001b[41m6\u001b[0m\u001b[44m4\u001b[0m\u001b[43m3\u001b[0m\u001b[44m4\u001b[0m\u001b[41m6\u001b[0m\u001b[41m6\u001b[0m\u001b[43m3\u001b[0m\u001b[42m1\u001b[0m\u001b[44m4\u001b[0m\u001b[42m1\u001b[0m\u001b[44m4\u001b[0m\u001b[44m4\u001b[0m\u001b[43m3\u001b[0m\u001b[43m3\u001b[0m\u001b[44m4\u001b[0m\u001b[44m4\u001b[0m\u001b[43m3\u001b[0m\u001b[43m3\u001b[0m\u001b[44m4\u001b[0m\u001b[43m3\u001b[0m\u001b[44m4\u001b[0m\u001b[44m4\u001b[0m\u001b[44m4\u001b[0m\u001b[44m4\u001b[0m\u001b[43m3\u001b[0m\u001b[42m1\u001b[0m\u001b[42m1\u001b[0m\u001b[41m6\u001b[0m\u001b[43m3\u001b[0m\u001b[43m3\u001b[0m\u001b[44m4\u001b[0m\u001b[42m1\u001b[0m\u001b[43m3\u001b[0m\u001b[44m4\u001b[0m\u001b[41m6\u001b[0m\u001b[43m3\u001b[0m\u001b[44m4\u001b[0m\u001b[43m3\u001b[0m\u001b[42m1\u001b[0m\u001b[43m3\u001b[0m\u001b[44m4\u001b[0m\u001b[44m4\u001b[0m\u001b[44m4\u001b[0m\u001b[44m4\u001b[0m\u001b[42m1\u001b[0m\u001b[43m3\u001b[0m\u001b[44m4\u001b[0m\u001b[42m1\u001b[0m\u001b[43m3\u001b[0m\u001b[42m1\u001b[0m\u001b[44m4\u001b[0m\u001b[42m1\u001b[0m\u001b[44m4\u001b[0m\u001b[42m1\u001b[0m\u001b[44m4\u001b[0m\u001b[43m3\u001b[0m\u001b[43m3\u001b[0m\u001b[43m3\u001b[0m\u001b[42m1\u001b[0m\u001b[44m4\u001b[0m\u001b[42m1\u001b[0m\u001b[43m3\u001b[0m\u001b[43m3\u001b[0m\u001b[44m4\u001b[0m\u001b[43m3\u001b[0m\u001b[41m6\u001b[0m\u001b[43m3\u001b[0m\u001b[43m3\u001b[0m\u001b[44m4\u001b[0m\u001b[42m1\u001b[0m\u001b[42m1\u001b[0m\u001b[42m1\u001b[0m\u001b[44m4\u001b[0m\u001b[44m4\u001b[0m\u001b[42m1\u001b[0m\u001b[44m4\u001b[0m\u001b[42m1\u001b[0m\u001b[41m6\u001b[0m\u001b[42m1\u001b[0m\u001b[44m4\u001b[0m\u001b[43m3\u001b[0m\u001b[43m3\u001b[0m\u001b[44m4\u001b[0m\u001b[44m4\u001b[0m\u001b[43m3\u001b[0m\u001b[44m4\u001b[0m\u001b[43m3\u001b[0m\u001b[43m3\u001b[0m\u001b[43m3\u001b[0m\u001b[43m3\u001b[0m\u001b[44m4\u001b[0m\u001b[43m3\u001b[0m\u001b[43m3\u001b[0m\u001b[44m4\u001b[0m\u001b[42m1\u001b[0m\u001b[44m4\u001b[0m\u001b[43m3\u001b[0m\u001b[41m6\u001b[0m\u001b[43m3\u001b[0m\u001b[41m6\u001b[0m\u001b[43m3\u001b[0m\u001b[44m4\u001b[0m\u001b[41m6\u001b[0m\u001b[42m1\u001b[0m\u001b[43m3\u001b[0m\u001b[43m3\u001b[0m\u001b[44m4\u001b[0m\u001b[43m3\u001b[0m\u001b[42m1\u001b[0m\u001b[44m4\u001b[0m\u001b[43m3\u001b[0m\u001b[42m1\u001b[0m\u001b[43m3\u001b[0m\u001b[44m4\u001b[0m\u001b[42m1\u001b[0m\u001b[43m3\u001b[0m\u001b[44m4\u001b[0m\u001b[43m3\u001b[0m\u001b[43m3\u001b[0m\u001b[44m4\u001b[0m\u001b[41m6\u001b[0m\u001b[42m1\u001b[0m\u001b[43m3\u001b[0m\u001b[42m1\u001b[0m\u001b[43m3\u001b[0m\u001b[43m3\u001b[0m\u001b[42m1\u001b[0m\u001b[44m4\u001b[0m\u001b[41m6\u001b[0m\u001b[44m4\u001b[0m\u001b[43m3\u001b[0m\u001b[44m4\u001b[0m\u001b[42m1\u001b[0m\u001b[44m4\u001b[0m\u001b[43m3\u001b[0m\u001b[43m3\u001b[0m\u001b[44m4\u001b[0m\u001b[44m4\u001b[0m\u001b[44m4\u001b[0m\u001b[43m3\u001b[0m\u001b[44m4\u001b[0m\u001b[41m6\u001b[0m\u001b[41m6\u001b[0m\u001b[43m3\u001b[0m\u001b[44m4\u001b[0m\u001b[43m3\u001b[0m\u001b[42m1\u001b[0m\u001b[41m6\u001b[0m\u001b[43m3\u001b[0m\u001b[43m3\u001b[0m\u001b[44m4\u001b[0m\u001b[44m4\u001b[0m\u001b[43m3\u001b[0m\u001b[42m1\u001b[0m\u001b[44m4\u001b[0m\u001b[44m4\u001b[0m\u001b[44m4\u001b[0m\u001b[42m1\u001b[0m\u001b[42m1\u001b[0m\u001b[42m1\u001b[0m\u001b[42m1\u001b[0m\u001b[43m3\u001b[0m\u001b[42m1\u001b[0m\u001b[43m3\u001b[0m\u001b[44m4\u001b[0m\u001b[43m3\u001b[0m\u001b[43m3\u001b[0m\u001b[43m3\u001b[0m\u001b[42m1\u001b[0m\u001b[42m1\u001b[0m\u001b[44m4\u001b[0m\u001b[44m4\u001b[0m\u001b[44m4\u001b[0m\u001b[41m6\u001b[0m\u001b[44m4\u001b[0m\u001b[43m3\u001b[0m\u001b[42m1\u001b[0m\u001b[42m1\u001b[0m\u001b[42m1\u001b[0m\u001b[43m3\u001b[0m\u001b[44m4\u001b[0m\u001b[42m1\u001b[0m\u001b[44m4\u001b[0m\u001b[41m6\u001b[0m\u001b[44m4\u001b[0m\u001b[42m1\u001b[0m\u001b[43m3\u001b[0m\u001b[44m4\u001b[0m\u001b[43m3\u001b[0m\u001b[42m1\u001b[0m\u001b[44m4\u001b[0m\u001b[43m3\u001b[0m\u001b[41m6\u001b[0m\u001b[44m4\u001b[0m\u001b[44m4\u001b[0m\u001b[43m3\u001b[0m\u001b[44m4\u001b[0m\u001b[42m1\u001b[0m\u001b[42m1\u001b[0m\u001b[42m1\u001b[0m\u001b[44m4\u001b[0m\u001b[44m4\u001b[0m\u001b[43m3\u001b[0m\u001b[44m4\u001b[0m\u001b[42m1\u001b[0m\u001b[43m3\u001b[0m\u001b[43m3\u001b[0m\u001b[42m1\u001b[0m\u001b[43m3\u001b[0m\u001b[41m6\u001b[0m\u001b[43m3\u001b[0m\u001b[42m1\u001b[0m\u001b[44m4\u001b[0m\u001b[42m1\u001b[0m\u001b[43m3\u001b[0m\u001b[44m4\u001b[0m\u001b[44m4\u001b[0m\u001b[44m4\u001b[0m\u001b[43m3\u001b[0m\u001b[44m4\u001b[0m\u001b[44m4\u001b[0m\u001b[43m3\u001b[0m\u001b[42m1\u001b[0m\u001b[44m4\u001b[0m\u001b[42m1\u001b[0m\u001b[42m1\u001b[0m\u001b[42m1\u001b[0m\u001b[44m4\u001b[0m\u001b[42m1\u001b[0m\u001b[42m1\u001b[0m\u001b[43m3\u001b[0m\u001b[44m4\u001b[0m\u001b[42m1\u001b[0m\u001b[42m1\u001b[0m\u001b[44m4\u001b[0m\u001b[41m6\u001b[0m\u001b[44m4\u001b[0m\u001b[43m3\u001b[0m\u001b[42m1\u001b[0m\u001b[42m1\u001b[0m\u001b[44m4\u001b[0m\u001b[44m4\u001b[0m\u001b[44m4\u001b[0m\u001b[44m4\u001b[0m\u001b[41m6\u001b[0m\u001b[42m1\u001b[0m\u001b[43m3\u001b[0m\u001b[43m3\u001b[0m\u001b[44m4\u001b[0m\u001b[43m3\u001b[0m\u001b[43m3\u001b[0m\u001b[44m4\u001b[0m\u001b[42m1\u001b[0m\u001b[42m1\u001b[0m\u001b[44m4\u001b[0m\u001b[41m6\u001b[0m\u001b[43m3\u001b[0m\u001b[43m3\u001b[0m\u001b[42m1\u001b[0m\u001b[44m4\u001b[0m\u001b[44m4\u001b[0m\u001b[44m4\u001b[0m\u001b[44m4\u001b[0m\u001b[44m4\u001b[0m\u001b[41m6\u001b[0m\u001b[43m3\u001b[0m\u001b[44m4\u001b[0m\u001b[44m4\u001b[0m\u001b[44m4\u001b[0m\u001b[44m4\u001b[0m\u001b[44m4\u001b[0m\u001b[44m4\u001b[0m\u001b[44m4\u001b[0m\u001b[42m1\u001b[0m\u001b[44m4\u001b[0m\u001b[43m3\u001b[0m\u001b[44m4\u001b[0m\u001b[44m4\u001b[0m\u001b[44m4\u001b[0m\u001b[44m4\u001b[0m\u001b[43m3\u001b[0m\u001b[43m3\u001b[0m\u001b[44m4\u001b[0m\u001b[44m4\u001b[0m\u001b[43m3\u001b[0m\u001b[41m6\u001b[0m\u001b[44m4\u001b[0m\u001b[43m3\u001b[0m\u001b[42m1\u001b[0m\u001b[42m1\u001b[0m\u001b[41m6\u001b[0m\u001b[43m3\u001b[0m\u001b[44m4\u001b[0m\u001b[44m4\u001b[0m\u001b[41m6\u001b[0m\u001b[44m4\u001b[0m\u001b[44m4\u001b[0m\u001b[42m1\u001b[0m\u001b[44m4\u001b[0m\u001b[44m4\u001b[0m\u001b[43m3\u001b[0m\u001b[43m3\u001b[0m\u001b[43m3\u001b[0m\u001b[43m3\u001b[0m\u001b[43m3\u001b[0m\u001b[42m1\u001b[0m\u001b[44m4\u001b[0m\u001b[44m4\u001b[0m\u001b[43m3\u001b[0m\u001b[44m4\u001b[0m\u001b[44m4\u001b[0m\u001b[42m1\u001b[0m\u001b[43m3\u001b[0m\u001b[43m3\u001b[0m\u001b[44m4\u001b[0m\u001b[43m3\u001b[0m\u001b[44m4\u001b[0m\u001b[44m4\u001b[0m\u001b[44m4\u001b[0m\u001b[44m4\u001b[0m\u001b[41m6\u001b[0m\u001b[42m1\u001b[0m\u001b[42m1\u001b[0m\u001b[44m4\u001b[0m\u001b[41m6\u001b[0m\u001b[43m3\u001b[0m\u001b[43m3\u001b[0m\u001b[43m3\u001b[0m\u001b[43m3\u001b[0m\u001b[44m4\u001b[0m\u001b[42m1\u001b[0m\u001b[44m4\u001b[0m\u001b[41m6\u001b[0m\u001b[42m1\u001b[0m\u001b[43m3\u001b[0m\u001b[44m4\u001b[0m\u001b[44m4\u001b[0m\u001b[42m1\u001b[0m\u001b[44m4\u001b[0m\u001b[44m4\u001b[0m\u001b[44m4\u001b[0m\u001b[44m4\u001b[0m\u001b[44m4\u001b[0m\u001b[44m4\u001b[0m\u001b[43m3\u001b[0m\u001b[42m1\u001b[0m\n",
      "\n",
      "The frequency of \u001b[41m6\u001b[0m is 0.09\n",
      "The frequency of \u001b[42m1\u001b[0m is 0.21\n",
      "The frequency of \u001b[43m3\u001b[0m is 0.31\n",
      "The frequency of \u001b[44m4\u001b[0m is 0.39\n"
     ]
    }
   ],
   "source": [
    "## Long-term-frequencies Simulation\n",
    "\n",
    "from termcolor import colored\n",
    "#Create list of color symbols\n",
    "sym = [colored('6', on_color='on_red'), colored('1', on_color='on_green'), \\\n",
    "       colored('3', on_color='on_yellow'), colored('4', on_color='on_blue')]\n",
    "\n",
    "c = [ 0. ,  0.1,  0.3,  0.6,  1. ]\n",
    "\n",
    "def rand2sym(X):\n",
    "    \"\"\" Transform an array of random numbers, distributed uniformly in [0,1]\n",
    "    into a sequence of symbols, chosen according to the probabilities defined by c (cumul of p)\"\"\"\n",
    "    sym_plot = []\n",
    "    counts = { i : 0 for i in range(4)}\n",
    "    for n in X: \n",
    "        for j in range(4):\n",
    "            if c[j] <= n <= c[j+1]:\n",
    "                sym_plot.append(sym[j])\n",
    "                counts[j] += 1\n",
    "                break\n",
    "    return sym_plot, counts\n",
    "                \n",
    "\n",
    "n=1000\n",
    "X = np.random.uniform(size = n)\n",
    "syms, counts = rand2sym(X)\n",
    "\n",
    "f = [ float(i)/n for i in list(counts.values())]\n",
    "\n",
    "print(''.join(syms))\n",
    "print()\n",
    "for i in range(4):\n",
    "    print('The frequency of %s is %3.2f'%(sym[i],f[i]))"
   ]
  },
  {
   "cell_type": "code",
   "execution_count": null,
   "metadata": {
    "collapsed": true
   },
   "outputs": [],
   "source": []
  },
  {
   "cell_type": "code",
   "execution_count": null,
   "metadata": {
    "collapsed": true
   },
   "outputs": [],
   "source": []
  },
  {
   "cell_type": "code",
   "execution_count": null,
   "metadata": {
    "collapsed": true
   },
   "outputs": [],
   "source": []
  },
  {
   "cell_type": "markdown",
   "metadata": {
    "collapsed": true
   },
   "source": [
    "# Linear Regression"
   ]
  },
  {
   "cell_type": "markdown",
   "metadata": {
    "collapsed": true
   },
   "source": [
    "## Small example\n",
    "Suppose we have 9 points on the plane, defined by their $(x,y)$ coordinates"
   ]
  },
  {
   "cell_type": "code",
   "execution_count": 38,
   "metadata": {},
   "outputs": [
    {
     "data": {
      "image/png": "[encoded data removed]",
      "text/plain": [
       "<matplotlib.figure.Figure at 0xe9854aad30>"
      ]
     },
     "metadata": {},
     "output_type": "display_data"
    }
   ],
   "source": [
    "plt.figure(figsize=[8,6])\n",
    "x = np.arange(0,9)\n",
    "y = np.array([[19, 20, 20.5, 21.5, 22, 23, 23, 25.5, 24]]).T\n",
    "plt.plot(x,y,'bo');\n",
    "plt.grid()\n",
    "plt.show()"
   ]
  },
  {
   "cell_type": "markdown",
   "metadata": {
    "collapsed": true
   },
   "source": [
    "* These points are close to a straight line trending upwards. We would like to find that line. \n",
    "* The line is described by a function of the form: $f_{w_0,w_1}(x) \\doteq w_0+w_1 x$\n",
    "* our goal is to find $w_0$ and $w_1$.\n",
    "* As here we have more than two points the system is **overconstrained** - there is no straight line that passes through all of the points.\n",
    "* The points do not fall **exactly** on a line.  \n",
    "So we are looking for $w_0,w_1$  \n",
    "such that the line is **closest** to the points.\n",
    "\n",
    "\n",
    "We define the **Square difference** between the line $f_{w_0,w_1}$ and the points\n",
    "$\\langle (x_1,y_1),(x_2,y_2),\\ldots,(x_n,y_n) \\rangle$ to be \n",
    "$$\\sum_{i=1}^n [f_{w_0,w_1}(x_i)-y_i]^2$$\n",
    "(In our example $n=9$)\n",
    "\n",
    "\n",
    "The values of $w_0,w_1$ which  \n",
    "minimize the square difference,  \n",
    "are called the **least squares** solution."
   ]
  },
  {
   "cell_type": "markdown",
   "metadata": {
    "collapsed": true
   },
   "source": [
    "We use matrix notation and `numpy.linalg` to find the optimal vector ${\\bf w}=[w_0,w_1]$"
   ]
  },
  {
   "cell_type": "markdown",
   "metadata": {
    "collapsed": true
   },
   "source": [
    "${\\bf A}$ is an $n$ by $2$ matrix:\n",
    "$${\\bf A} =  \\begin{pmatrix}\n",
    " 1, x_1\\\\\n",
    " \\vdots\\\\\n",
    " 1, x_n\n",
    " \\end{pmatrix} \n",
    "$$"
   ]
  },
  {
   "cell_type": "markdown",
   "metadata": {
    "collapsed": true
   },
   "source": [
    " ${\\bf y}$ and ${\\bf w}$ are column vectors:\n",
    " $${\\bf y} =  \\begin{pmatrix}\n",
    " y_1\\\\\n",
    " \\vdots\\\\\n",
    " y_n\n",
    " \\end{pmatrix} \n",
    " ,\\;\\;\\;\\;\n",
    " {\\bf w} = \\begin{pmatrix}\n",
    " w_0\\\\\n",
    " w_1\n",
    " \\end{pmatrix}\n",
    "$$"
   ]
  },
  {
   "cell_type": "markdown",
   "metadata": {
    "collapsed": true
   },
   "source": [
    "We can then express the differences as a vector ${\\bf d}$:\n",
    "$$ {\\bf d} = {\\bf A} {\\bf w} - {\\bf y} $$"
   ]
  },
  {
   "cell_type": "markdown",
   "metadata": {
    "collapsed": true
   },
   "source": [
    "The square difference, that we wish to minimize, is equal to the square of the norm of ${\\bf d}$. \n",
    "\n",
    "Our goal is to find ${\\bf w}$ that minimizes  \n",
    "$\\|{\\bf d}\\|_2^2 = \\sum_{i=1}^n d_i^2$"
   ]
  },
  {
   "cell_type": "code",
   "execution_count": 39,
   "metadata": {
    "collapsed": true
   },
   "outputs": [],
   "source": [
    "A = np.array([ np.ones(9),x ]).T\n",
    "# linearly generated sequence\n",
    "w = np.linalg.lstsq(A,y)[0] # obtaining the parameters"
   ]
  },
  {
   "cell_type": "code",
   "execution_count": 42,
   "metadata": {},
   "outputs": [
    {
     "data": {
      "image/png": "[encoded data removed]",
      "text/plain": [
       "<matplotlib.figure.Figure at 0xe9855d2240>"
      ]
     },
     "metadata": {},
     "output_type": "display_data"
    }
   ],
   "source": [
    "# plotting the line and the square differences\n",
    "plt.figure(figsize=[8,6])\n",
    "line = w[0]+w[1]*x # regression line\n",
    "plt.plot(x,line,'r-',x,y,'o')\n",
    "\n",
    "for i in range(len(x)):\n",
    "    plt.plot([x[i],x[i]],[y[i],w[1]*x[i]+w[0]],'g')\n",
    "\n",
    "plt.grid()\n",
    "plt.show()"
   ]
  },
  {
   "cell_type": "markdown",
   "metadata": {
    "collapsed": true
   },
   "source": [
    "## A real-life example\n",
    "We now turn our attention to the analysis of some real-word data. This data describes  the weight and height of some 25,000 people."
   ]
  },
  {
   "cell_type": "code",
   "execution_count": null,
   "metadata": {
    "collapsed": true
   },
   "outputs": [],
   "source": []
  },
  {
   "cell_type": "code",
   "execution_count": null,
   "metadata": {
    "collapsed": true
   },
   "outputs": [],
   "source": []
  },
  {
   "cell_type": "markdown",
   "metadata": {
    "collapsed": true
   },
   "source": [
    "# Polynomial Regression"
   ]
  },
  {
   "cell_type": "code",
   "execution_count": null,
   "metadata": {
    "collapsed": true
   },
   "outputs": [],
   "source": []
  },
  {
   "cell_type": "markdown",
   "metadata": {
    "collapsed": true
   },
   "source": [
    "# Regression to the mean"
   ]
  },
  {
   "cell_type": "markdown",
   "metadata": {
    "collapsed": true
   },
   "source": [
    "Suppose you have a pair of IID random variables $X_1,X_2$. If you select pairs $x_1,x_2$ such that $x_1$ is far from the mean of the distribution, then $x_2$ for those pairs will tend to be closer to the mean. "
   ]
  },
  {
   "cell_type": "code",
   "execution_count": null,
   "metadata": {
    "collapsed": true
   },
   "outputs": [],
   "source": []
  },
  {
   "cell_type": "markdown",
   "metadata": {
    "collapsed": true
   },
   "source": [
    "# Principle components analysis"
   ]
  },
  {
   "cell_type": "markdown",
   "metadata": {
    "collapsed": true
   },
   "source": [
    "* PCA and regression are modeling methods based on minimizing RMS error \n",
    "* Regression is a supervised method- you have to choose what to predict\n",
    "* PCA is an unsupervised method\n",
    "* Both methods are based on linear algebra and are therefor very efficient."
   ]
  },
  {
   "cell_type": "code",
   "execution_count": 15,
   "metadata": {},
   "outputs": [
    {
     "name": "stdout",
     "output_type": "stream",
     "text": [
      "Populating the interactive namespace from numpy and matplotlib\n"
     ]
    }
   ],
   "source": [
    "%pylab inline\n",
    "from scipy import *\n",
    "from numpy.linalg import norm\n",
    "from math import sqrt,sin,cos\n",
    "import pandas as pd\n",
    "import numpy as np\n",
    "from numpy import arange,array,ones,linalg"
   ]
  },
  {
   "cell_type": "code",
   "execution_count": null,
   "metadata": {
    "collapsed": true
   },
   "outputs": [],
   "source": []
  },
  {
   "cell_type": "code",
   "execution_count": 16,
   "metadata": {},
   "outputs": [
    {
     "ename": "NameError",
     "evalue": "name 'data' is not defined",
     "output_type": "error",
     "traceback": [
      "\u001b[1;31m---------------------------------------------------------------------------\u001b[0m",
      "\u001b[1;31mNameError\u001b[0m                                 Traceback (most recent call last)",
      "\u001b[1;32m<ipython-input-16-d6e98875acdc>\u001b[0m in \u001b[0;36m<module>\u001b[1;34m()\u001b[0m\n\u001b[1;32m----> 1\u001b[1;33m \u001b[0mx\u001b[0m \u001b[1;33m=\u001b[0m \u001b[0mdata\u001b[0m\u001b[1;33m.\u001b[0m\u001b[0mgroupby\u001b[0m\u001b[1;33m(\u001b[0m\u001b[1;34m'study_hours'\u001b[0m\u001b[1;33m,\u001b[0m \u001b[0mas_index\u001b[0m\u001b[1;33m=\u001b[0m\u001b[1;32mFalse\u001b[0m\u001b[1;33m)\u001b[0m\u001b[1;33m[\u001b[0m\u001b[1;34m'grades'\u001b[0m\u001b[1;33m]\u001b[0m\u001b[1;33m.\u001b[0m\u001b[0mmean\u001b[0m\u001b[1;33m(\u001b[0m\u001b[1;33m)\u001b[0m\u001b[1;33m\u001b[0m\u001b[0m\n\u001b[0m",
      "\u001b[1;31mNameError\u001b[0m: name 'data' is not defined"
     ]
    }
   ],
   "source": []
  },
  {
   "cell_type": "markdown",
   "metadata": {},
   "source": [
    "## Linear Algebra"
   ]
  },
  {
   "cell_type": "markdown",
   "metadata": {},
   "source": [
    "### Arrays as Vectors\n",
    "One way to define vectors in numpy is to use a one dimensional array. <BR>\n",
    "* The array `np.array([1,2,3,4])` **defines a vector** in $R^4$, i.e. a vector of dimension $4$ \n",
    "* The array `np.array([[1,2],[3,4]])` which is a rectangle of numbers, also called a **Matrix**"
   ]
  },
  {
   "cell_type": "code",
   "execution_count": 80,
   "metadata": {
    "collapsed": true
   },
   "outputs": [],
   "source": [
    "v1= np.array([1,2,3,4])\n",
    "M = np.array([[1,2],[3,4]])"
   ]
  },
  {
   "cell_type": "markdown",
   "metadata": {},
   "source": [
    "### Visualizing 2D vectors"
   ]
  },
  {
   "cell_type": "code",
   "execution_count": 4,
   "metadata": {
    "collapsed": true
   },
   "outputs": [],
   "source": [
    "import matplotlib.pyplot as plt\n",
    "from numpy.linalg import norm\n",
    "text_loc=1.1\n",
    "def plot_arrows(L,scale=4,text_loc=0.2,fontsize=12):\n",
    "    \"\"\" Plot a list of arrows. Each arrow defined by start and end points and a color and optionally text\"\"\"\n",
    "    plt.figure(figsize=[6,6])\n",
    "    plt.xlim([-scale,scale])\n",
    "    plt.ylim([-scale,scale])\n",
    "    ax = plt.axes()\n",
    "    plt.xlabel('1st coord (x)')\n",
    "    plt.ylabel('2nd coord (y)')\n",
    "    #ax.axis('equal')\n",
    "\n",
    "    for A in L:\n",
    "        s,e,c=A[:3]\n",
    "        ax.arrow(s[0], s[1], e[0], e[1], head_width=0.05*scale, head_length=0.1*scale, fc=c, ec=c,length_includes_head=True);\n",
    "        if len(A)==4:\n",
    "            t=A[3]\n",
    "            _loc=1+text_loc/norm(e)\n",
    "            ax.text(_loc*e[0],_loc*e[1],t,fontsize=fontsize)\n",
    "    plt.grid()\n",
    "    plt.show()"
   ]
  },
  {
   "cell_type": "code",
   "execution_count": 5,
   "metadata": {},
   "outputs": [
    {
     "name": "stderr",
     "output_type": "stream",
     "text": [
      "C:\\Users\\staff\\Anaconda3\\lib\\site-packages\\matplotlib\\cbook\\deprecation.py:106: MatplotlibDeprecationWarning: Adding an axes using the same arguments as a previous axes currently reuses the earlier instance.  In a future version, a new instance will always be created and returned.  Meanwhile, this warning can be suppressed, and the future behavior ensured, by passing a unique label to each axes instance.\n",
      "  warnings.warn(message, mplDeprecation, stacklevel=1)\n"
     ]
    },
    {
     "data": {
      "image/png": "[encoded data removed]",
      "text/plain": [
       "<matplotlib.figure.Figure at 0xe9866072e8>"
      ]
     },
     "metadata": {},
     "output_type": "display_data"
    }
   ],
   "source": [
    "zero=np.array([0,0])\n",
    "v1=np.array([1,2])\n",
    "v2=np.array([-1,1])\n",
    "v3=np.array([0,-2])\n",
    "plot_arrows([[zero,v1,'r',str(v1)],[zero,v2,'k',str(v2)],[zero,v3,'b',str(v3)]])\n"
   ]
  },
  {
   "cell_type": "code",
   "execution_count": 110,
   "metadata": {},
   "outputs": [
    {
     "name": "stdout",
     "output_type": "stream",
     "text": [
      "1\n",
      "2.2360679775\n",
      "[ 0.4472136   0.89442719]\n",
      "1.0\n"
     ]
    }
   ],
   "source": [
    "## dot product\n",
    "v1=np.array([1,2])\n",
    "v2=np.array([-1,1])\n",
    "dot_product = np.dot(v1,v2)\n",
    "print(dot_product)\n",
    "\n",
    "##  The norm of a vector\n",
    "norm = np.sqrt(np.dot(v1,v1))\n",
    "print(norm)\n",
    "\n",
    "## Unit vectors\n",
    "from numpy.linalg import norm\n",
    "u1=v1/norm(v1)\n",
    "print(u1)\n",
    "print(norm(u1))\n"
   ]
  },
  {
   "cell_type": "markdown",
   "metadata": {},
   "source": [
    "### Projections\n",
    "Taking the dot product of an arbitrary vector `v2` with a unit vector `u1` has a simple geometric interpretation"
   ]
  },
  {
   "cell_type": "code",
   "execution_count": 115,
   "metadata": {},
   "outputs": [
    {
     "name": "stderr",
     "output_type": "stream",
     "text": [
      "C:\\Users\\hamdymostafa\\Anaconda3\\lib\\site-packages\\matplotlib\\cbook\\deprecation.py:106: MatplotlibDeprecationWarning: Adding an axes using the same arguments as a previous axes currently reuses the earlier instance.  In a future version, a new instance will always be created and returned.  Meanwhile, this warning can be suppressed, and the future behavior ensured, by passing a unique label to each axes instance.\n",
      "  warnings.warn(message, mplDeprecation, stacklevel=1)\n"
     ]
    },
    {
     "data": {
      "image/png": "[encoded data removed]",
      "text/plain": [
       "<matplotlib.figure.Figure at 0x1ee189fc320>"
      ]
     },
     "metadata": {},
     "output_type": "display_data"
    }
   ],
   "source": [
    "p=u1*np.dot(u1,v2)\n",
    "ax=plot_arrows([[zero,u1,'r','$\\\\vec{u}_1$'],[zero,v2,'k','$\\\\vec{v}_2$'],\\\n",
    "                [zero,p,'g',\"$\\\\vec{u}_1(\\\\vec{u}_1\\\\cdot \\\\vec{v}_2)$\"]],\\\n",
    "               scale=1.1,text_loc=0.05)\n",
    "ax.plot([v2[0],p[0]],[v2[1],p[1]])\n",
    "plt.show()"
   ]
  },
  {
   "cell_type": "markdown",
   "metadata": {},
   "source": [
    "### Orthogonal vectors\n",
    "Two vectors are orthogonal if their dot product is zero.\n",
    "\n",
    "Equivalently, two vectors are orthogonal if the angle between them is 90 degrees."
   ]
  },
  {
   "cell_type": "code",
   "execution_count": 119,
   "metadata": {},
   "outputs": [
    {
     "name": "stdout",
     "output_type": "stream",
     "text": [
      "black vector= [2 2] red_vector= [-1  1]\n",
      "np.dot(a,b)= 0\n"
     ]
    },
    {
     "name": "stderr",
     "output_type": "stream",
     "text": [
      "C:\\Users\\hamdymostafa\\Anaconda3\\lib\\site-packages\\matplotlib\\cbook\\deprecation.py:106: MatplotlibDeprecationWarning: Adding an axes using the same arguments as a previous axes currently reuses the earlier instance.  In a future version, a new instance will always be created and returned.  Meanwhile, this warning can be suppressed, and the future behavior ensured, by passing a unique label to each axes instance.\n",
      "  warnings.warn(message, mplDeprecation, stacklevel=1)\n"
     ]
    },
    {
     "data": {
      "image/png": "[encoded data removed]",
      "text/plain": [
       "<matplotlib.figure.Figure at 0x1ee188a6748>"
      ]
     },
     "metadata": {},
     "output_type": "display_data"
    }
   ],
   "source": [
    "a=np.array([2,2])\n",
    "b=np.array([-1,1])\n",
    "print('black vector=',a,'red_vector=',b)\n",
    "print ('np.dot(a,b)=',np.dot(a,b))\n",
    "plot_arrows([[zero,a,'r'],[zero,b,'k']],scale=2.1);\n",
    "plt.show()"
   ]
  },
  {
   "cell_type": "markdown",
   "metadata": {},
   "source": [
    "## Orthonormal basis\n",
    "We say that the vectors $\\vec{u}_1,\\vec{u}_2,\\ldots,\\vec{u}_d \\in R^d$ form an **orthonormal basis** of $R^d$. If: <br>\n",
    "    **Normality:** $\\vec{u}_1,\\vec{u}_2,\\ldots,\\vec{u}_d$ are unit vectors:  \n",
    "$\\forall 1 \\leq i \\leq d: \\vec{u}_i \\cdot \\vec{u}_i =1 $  <br>\n",
    "\n",
    "**Orthogonality:** Every pair of vectors are orthogonal:  \n",
    "$\\forall 1 \\leq i\\neq j \\leq d: \\vec{u}_i \\cdot \\vec{u}_j =0 $ <br>\n",
    "\n",
    "### The Standard basis\n",
    "The standard basis is: $\\vec{e}_1 = [1,0,0,\\ldots,0], \\vec{e}_2 = [0,1,0,\\ldots,0],$   \n",
    "\n",
    "$\\ldots,\\vec{e}_d = [0,0,0,\\ldots,1]$ <br>\n",
    "\n",
    "The dot product of a vector $\\vec{v}$  \n",
    "with a standard basis vector $\\vec{e}_i$  \n",
    "is equal to the $i$th coordinate of $\\vec{v}$,  \n",
    "which we denote by $v_i$"
   ]
  },
  {
   "cell_type": "code",
   "execution_count": 122,
   "metadata": {},
   "outputs": [
    {
     "data": {
      "text/plain": [
       "6"
      ]
     },
     "execution_count": 122,
     "metadata": {},
     "output_type": "execute_result"
    }
   ],
   "source": [
    "v=np.array([5,6,3,4])\n",
    "e2=np.array([0,1,0,0])\n",
    "np.dot(v,e2)"
   ]
  },
  {
   "cell_type": "markdown",
   "metadata": {},
   "source": [
    "### Reconstruction using an orthonormal basis\n",
    "Orthonormal basis define a *coordinate system* and allow us to move between coordinate systems.\n",
    "\n",
    "An orthonormal basis $\\vec{u}_1,\\ldots,\\vec{u}_d$ can be used to represent any vector $\\vec{v}$ in the following way. <br>\n",
    "\n",
    "$\\vec{v}$ is **represented** as a list of $d$ dot products: $$[\\vec{v}\\cdot\\vec{u_1},\\vec{v}\\cdot\\vec{u_2},\\ldots,\\vec{v}\\cdot\\vec{u_d}]$$ <br>\n",
    "\n",
    "$\\vec{v}$ is **reconstructed** by summing its projections on the basis vectors:\n",
    "$$\\vec{v} = (\\vec{v}\\cdot\\vec{u_1})\\vec{u_1} + \\cdots + (\\vec{v}\\cdot\\vec{u_d})\\vec{u_d}$$ <br>\n",
    "\n",
    "* Representing a vector $\\vec{v}$ using the **standard** basis is yields the representation $[v_1,v_2,\\ldots,v_d]$ <br>\n",
    "* Representing $\\vec{v}$ using an orthonormal basis is called a **change of basis**\n",
    "\n"
   ]
  },
  {
   "cell_type": "markdown",
   "metadata": {},
   "source": [
    "### Visualizing change of basis"
   ]
  },
  {
   "cell_type": "code",
   "execution_count": 123,
   "metadata": {},
   "outputs": [
    {
     "name": "stderr",
     "output_type": "stream",
     "text": [
      "C:\\Users\\hamdymostafa\\Anaconda3\\lib\\site-packages\\matplotlib\\cbook\\deprecation.py:106: MatplotlibDeprecationWarning: Adding an axes using the same arguments as a previous axes currently reuses the earlier instance.  In a future version, a new instance will always be created and returned.  Meanwhile, this warning can be suppressed, and the future behavior ensured, by passing a unique label to each axes instance.\n",
      "  warnings.warn(message, mplDeprecation, stacklevel=1)\n"
     ]
    },
    {
     "data": {
      "image/png": "[encoded data removed]",
      "text/plain": [
       "<matplotlib.figure.Figure at 0x1ee18978940>"
      ]
     },
     "metadata": {},
     "output_type": "display_data"
    },
    {
     "name": "stdout",
     "output_type": "stream",
     "text": [
      "We are changing the basis representing the vector v\n",
      "from the standard basis (e1,e2) to a new orthonormal basis (u1,u2)\n",
      "The green arrows are the projections of v onto the directions defined by u1 and u2\n"
     ]
    }
   ],
   "source": [
    "from math import sin,cos\n",
    "v=np.array([-1,-2])\n",
    "e1=np.array([1,0])\n",
    "e2=np.array([0,1])\n",
    "angle=np.pi/6.0 # 30 degrees\n",
    "u1=np.array([cos(angle),sin(angle)])\n",
    "u2=np.array([-sin(angle),cos(angle)])\n",
    "v,e1,e2,u1,u2\n",
    "p1=u1*np.dot(u1,v)\n",
    "p2=u2*np.dot(u2,v)\n",
    "ax=plot_arrows([[zero,u1,'r','$\\\\vec{u}_1$'],[zero,u2,'r','$\\\\vec{u}_2$'],\n",
    "               [zero,e1,'k','$\\\\vec{e}_1$'],[zero,e2,'k','$\\\\vec{e}_2$'],\\\n",
    "               [zero,v,'b','$\\\\vec{v}$'],\\\n",
    "               [zero,p1,'g',\"$\\\\vec{u}_1(\\\\vec{u}_1\\\\cdot \\\\vec{v})$\"],\\\n",
    "               [zero,p2,'g',\"$\\\\vec{u}_2(\\\\vec{u}_2\\\\cdot \\\\vec{v})$\"]],\\\n",
    "               scale=2.2,text_loc=0.2)\n",
    "ax.plot([v[0],p1[0]],[v[1],p1[1]],'m');\n",
    "ax.plot([v[0],p2[0]],[v[1],p2[1]],'m');\n",
    "plt.show()\n",
    "print(\"\"\"We are changing the basis representing the vector v\n",
    "from the standard basis (e1,e2) to a new orthonormal basis (u1,u2)\n",
    "The green arrows are the projections of v onto the directions defined by u1 and u2\"\"\")"
   ]
  },
  {
   "cell_type": "markdown",
   "metadata": {},
   "source": [
    "## Matrices"
   ]
  },
  {
   "cell_type": "markdown",
   "metadata": {},
   "source": [
    "### Vectors as matrices.\n",
    "When using matrix notation, vectors can be represented as either [row or column vectors](https://en.wikipedia.org/wiki/Row_and_column_vectors). In a matrix context, a vector $\\vec{v}$ is denoted by a bold-face letter. ${\\bf v}$ for a column vector and ${\\bf v}^\\top$ for row vector:"
   ]
  },
  {
   "cell_type": "markdown",
   "metadata": {},
   "source": [
    "* By default a vector is represented as a **column vector** which is a matrix consisting of a single column:\n",
    "$$\n",
    "\\begin{equation}\n",
    "{\\bf v}=\n",
    "\t\\begin{bmatrix}\n",
    "\t  v_1 \\\\\n",
    "      v_2 \\\\\n",
    "      \\vdots \\\\\n",
    "\t  v_d\n",
    "\t\\end{bmatrix}\n",
    "\\end{equation}\n",
    "$$"
   ]
  },
  {
   "cell_type": "markdown",
   "metadata": {},
   "source": [
    "* If $\\vec{v}$ is a column vector then the **transpose** of $\\vec{v}$, denoted by $\\vec{v}^\\top$ is a **row vector** which is a matrix consists of a single row:\n",
    "$$\n",
    "\\begin{equation}\n",
    "{\\bf v}^{\\top}=\n",
    "\t\\begin{bmatrix}\n",
    "\t  v_1 & v_2 & \\cdots & v_d\n",
    "\t\\end{bmatrix}\n",
    "\\end{equation}\n",
    "$$"
   ]
  },
  {
   "cell_type": "markdown",
   "metadata": {},
   "source": [
    "### Matrix-Matrix products\n",
    "\n",
    "#### The dot product of two vectors\n",
    "* Recall that a vector is just a skinny matrix.\n",
    "* Consider the dot product $(1,2,3) \\cdot (1,1,0) = 1 \\times 1 + 2 \\times 1 +3 \\times 0= 3$.\n",
    "\n",
    "To multiply the matrix ${\\bf A}=\\begin{bmatrix}\n",
    "\t  a_{11} & a_{12} & a_{13}\\\\\n",
    "\t  a_{21} & a_{22} & a_{23}\t\n",
    "\t\\end{bmatrix}$\n",
    "by the column vector ${\\bf c}=\\begin{bmatrix} c_1 \\\\ c_2 \\\\ c_3 \\end{bmatrix}$   that a vector is just a skinny matrix.\n",
    "* Consider the dot product $(1,2,3) \\cdot (1,1,0) = 1 \\times 1 + 2 \\times 1 +3 \\times 0= 3$.\n",
    "\n",
    "\n",
    "\n",
    "Conventions of dot product in matrix notation:\n",
    "  * The first vector is a row vector and the second vector is a column vector.\n",
    "  * There is no operator ($\\cdot$) between the two vectors\n",
    "  \n",
    "$$\n",
    "   \\begin{bmatrix} 1,2,3 \\end{bmatrix}\n",
    "   \\begin{bmatrix} 1 \\\\ 1 \\\\ 0 \\end{bmatrix} = 1 \\times 1 + 2 \\times 1 +3 \\times 0= 3\n",
    "$$\n",
    "\n",
    "\n",
    "\n",
    "#### The dot product of a matrix and a vector\n",
    "\n",
    "To multiply the matrix ${\\bf A}=\\begin{bmatrix}\n",
    "\t  a_{11} & a_{12} & a_{13}\\\\\n",
    "\t  a_{21} & a_{22} & a_{23}\t\n",
    "\t\\end{bmatrix}$\n",
    "by the column vector ${\\bf c}=\\begin{bmatrix} c_1 \\\\ c_2 \\\\ c_3 \\end{bmatrix}$  \n",
    "\n",
    "\n",
    "\n",
    "\n",
    "We think of ${\\bf A}$ as consisting or two row vectors:\n",
    "${\\bf A} = \\begin{bmatrix} {\\bf r}_1 \\\\ {\\bf r}_2 \\end{bmatrix}$  \n",
    "where $\n",
    "   {\\bf r}_1=\\begin{bmatrix} a_{11}, a_{12}, a_{13} \\end{bmatrix},\n",
    "   {\\bf r}_2=\\begin{bmatrix} a_{21}, a_{22}, a_{23} \\end{bmatrix}, \n",
    "$\n",
    "\n",
    "and take the dot products of ${\\bf r}_1,{\\bf r}_2$ with ${\\bf c}$ to create a column vector of dimension 2:\n",
    "\n",
    "${\\bf A} {\\bf c} = \\begin{bmatrix} {\\bf r}_1 {\\bf c} \\\\ {\\bf r}_2 {\\bf c} \\end{bmatrix}\n",
    " = \\begin{bmatrix}\n",
    "\t  a_{11}c_1 + a_{12}c_2 + a_{13} c_3 \\\\\n",
    "\t  a_{21}c_1 + a_{22}c_2 + a_{23} c_3\t\n",
    "\t\\end{bmatrix}$\n",
    "    \n",
    "    \n",
    "   \n",
    "  #### Dot product of two matrices\n",
    "\n",
    "Multiplying a matrix and a column vector can be generalized to multiplying two matrices.\n",
    "\n",
    "\n",
    "\n",
    "To do so we think of \n",
    "Alternatively, consider a matrix ${\\bf C}$ of size $2 \\times 3$ and a matrix ${\\bf A}$ of size $3 \\times 2$\n",
    "\n",
    "$$\n",
    "\\begin{equation}\n",
    "\t{\\bf A}=\\begin{bmatrix}\n",
    "\t  a_{11} & a_{12} \\\\\n",
    "\t  a_{21} & a_{22} \\\\\n",
    "\t  a_{31} & a_{32} \t\n",
    "\t\\end{bmatrix}\n",
    "\t,\n",
    "\t{\\bf C} = \n",
    "\t\\begin{bmatrix}\n",
    "\t\t  c_{11} & c_{12} & c_{13} \\\\\n",
    "\t\t  c_{21} & c_{22} & c_{23} \n",
    "\t\\end{bmatrix}\n",
    "\t\\end{equation}\n",
    "$$ \n",
    "\n",
    "\n",
    "\n",
    "To compute ${\\bf AC}$ we think of ${\\bf A}$ as a column of row vectors:\n",
    "${\\bf A} =\\begin{bmatrix}\n",
    "\t  {\\bf a}_1 \\\\\n",
    "\t  {\\bf a}_2 \\\\\n",
    "\t  {\\bf a}_3\t\n",
    "\t\\end{bmatrix}\n",
    "    $\n",
    "    \n",
    "and of ${\\bf C}$ as a row of column vectors: ${\\bf C} =\\begin{bmatrix}\n",
    "\t  {\\bf c}_1,\n",
    "\t  {\\bf c}_2,\n",
    "\t  {\\bf c}_3\t\n",
    "\t\\end{bmatrix}\n",
    "    $\n",
    "   \n",
    "   \n",
    "   \n",
    "   ${\\bf AC}$ is the matrix generated from taking the dot product of each row vector in ${\\bf A}$ with each column vector in ${\\bf C}$\n",
    "\n",
    "${\\bf AC}=\n",
    "\t\\begin{bmatrix}\n",
    "\t  {\\bf a}_1 \\\\\n",
    "\t  {\\bf a}_2 \\\\\n",
    "\t  {\\bf a}_3\t\t\n",
    "\t\\end{bmatrix}\n",
    "\t\\begin{bmatrix}\n",
    "\t  {\\bf c}_1,\n",
    "\t  {\\bf c}_2,\n",
    "\t  {\\bf c}_3\n",
    "\t\\end{bmatrix}\n",
    "= \\begin{bmatrix}\n",
    "    {\\bf a}_1 \\cdot {\\bf c}_1 & {\\bf a}_1 \\cdot {\\bf c}_2 & {\\bf a}_1 \\cdot {\\bf c}_3 \\\\\n",
    "    {\\bf a}_2 \\cdot {\\bf c}_1 & {\\bf a}_2 \\cdot {\\bf c}_2 & {\\bf a}_2 \\cdot {\\bf c}_3 \\\\\n",
    "    {\\bf a}_3 \\cdot {\\bf c}_1 & {\\bf a}_3 \\cdot {\\bf c}_2 & {\\bf a}_3 \\cdot {\\bf c}_3\n",
    "    \\end{bmatrix} =\n",
    "    $\n",
    "    \n",
    "    \n",
    "    \n",
    "$= \\begin{bmatrix}\n",
    "\t  a_{11} c_{11}+a_{12} c_{21} & a_{11} c_{12}+a_{12} c_{22} & a_{11} c_{13}+a_{12} c_{23} \\\\\n",
    "\t  a_{21} c_{11}+a_{22} c_{21} & a_{21} c_{12}+a_{22} c_{22} & a_{21} c_{13}+a_{22} c_{23} \\\\\n",
    "\t  a_{31} c_{11}+a_{32} c_{21} & a_{31} c_{12}+a_{32} c_{22} & a_{31} c_{13}+a_{32} c_{23}\n",
    "\t\\end{bmatrix}\n",
    "$\n",
    "    \n"
   ]
  },
  {
   "cell_type": "code",
   "execution_count": 130,
   "metadata": {},
   "outputs": [
    {
     "name": "stdout",
     "output_type": "stream",
     "text": [
      "[[ 0.3406218   1.14069153]\n",
      " [ 3.21764051  2.48228531]\n",
      " [ 6.09465921  3.82387909]]\n"
     ]
    }
   ],
   "source": [
    "# Define the matrices A and C\n",
    "A = np.arange(6).reshape((3,2))\n",
    "C = np.random.randn(2,2)\n",
    "# We will use the numpy dot operator to perform  multiplications\n",
    "print(A.dot(C))"
   ]
  },
  {
   "cell_type": "markdown",
   "metadata": {},
   "source": [
    "## Orthonormal matrices and change of Basis"
   ]
  },
  {
   "cell_type": "markdown",
   "metadata": {},
   "source": [
    "We say that the vectors $\\vec{u}_1,\\vec{u}_2,\\ldots,\\vec{u}_d \\in R^d$ form an **orthonormal basis** of $R^d$. If:\n",
    "* **Normality:** $\\vec{u}_1,\\vec{u}_2,\\ldots,\\vec{u}_d$ are unit vectors: $\\forall 1 \\leq i \\leq d: \\vec{u}_i \\cdot \\vec{u}_i =1 $\n",
    "* **Orthogonality:** Every pair of vectors are orthogonal: \n",
    "$\\forall 1 \\leq i\\neq j \\leq d: \\vec{u}_i \\cdot \\vec{u}_j =0 $\n",
    "\n",
    "** Orthonormal basis can be used to rotate the vector space:**\n",
    "* $\\vec{v}$ is **represented** as a list of $d$ dot products: $$[\\vec{v}\\cdot\\vec{u_1},\\vec{v}\\cdot\\vec{u_2},\\ldots,\\vec{v}\\cdot\\vec{u_d}]$$\n",
    "* $\\vec{v}$ is **reconstructed** by summing its projections on the basis vectors:\n",
    "$$\\vec{v} = (\\vec{v}\\cdot\\vec{u_1})\\vec{u_1} + (\\vec{v}\\cdot\\vec{u_2})\\vec{u_2} + \\cdots + (\\vec{v}\\cdot\\vec{u_d})\\vec{u_d}$$"
   ]
  },
  {
   "cell_type": "markdown",
   "metadata": {},
   "source": [
    "### Change of Basis using matrix notation\n",
    "To use matrix notation, we think of $\\vec{u}_i$ as a row vector:\n",
    "$$\n",
    "   {\\bf u}_i=\\begin{bmatrix} u_{i1}, u_{i2},\\ldots, u_{id} \\end{bmatrix},\n",
    "$$"
   ]
  },
  {
   "cell_type": "markdown",
   "metadata": {},
   "source": [
    "We can combine the orthonormal vectors to create an *orthonormal matrix*\n",
    "\n",
    "$$ {\\bf U} = \\begin{bmatrix} {\\bf u}_1 \\\\ {\\bf u}_2 \\\\ \\vdots \\\\ {\\bf u}_d \\end{bmatrix}\n",
    "= \\begin{bmatrix} \n",
    "u_{11}, u_{12},\\ldots, u_{1d} \\\\ \n",
    "u_{21}, u_{22},\\ldots, u_{2d} \\\\ \n",
    "\\vdots\\\\\n",
    "u_{d1}, u_{d2},\\ldots, u_{dd} \n",
    "\\end{bmatrix}\n",
    "$$\n",
    "\n",
    "Orthonormality: ${\\bf UU^{\\top} = I}$"
   ]
  },
  {
   "cell_type": "markdown",
   "metadata": {},
   "source": [
    "Using this notation, the representation of a column vector $\\bf v$ in the orthonormal basis corresponsing to the rows of ${\\bf U}$ is equal to \n",
    "\n",
    "$${\\bf Uv} = \\begin{bmatrix} {\\bf u}_1 {\\bf v} \\\\ {\\bf u}_2 {\\bf v} \\\\ \\vdots \\\\ {\\bf u}_d {\\bf v} \\end{bmatrix}$$  \n",
    "\n",
    "And the reconstruction of $\\bf v$ is equal to ${\\bf U U^{\\mathsf{T}} v}$"
   ]
  },
  {
   "cell_type": "markdown",
   "metadata": {},
   "source": [
    "## Inverting a Matrix"
   ]
  },
  {
   "cell_type": "markdown",
   "metadata": {},
   "source": [
    "**Some** square matrices ${\\bf A}$ have a multiplicative inverse ${\\bf A^{-1}}$  \n",
    "such that ${\\bf A A^{-1} = A^{-1} A =I}$\n",
    "\n",
    "Finding the inverse of a matrix is called *inverting* the matrix.  "
   ]
  },
  {
   "cell_type": "markdown",
   "metadata": {},
   "source": [
    "An $n\\times n$ matrix $\\bf A$ represents a linear transformation from $R^n$ to $R^n$. If the matrix is [**invertible**](https://en.wikipedia.org/wiki/Invertible_matrix) then there is another transformation ${\\bf A}^{-1}$ that represents the inverse transformation, such that for any column vctor ${\\bf v} \\in R^n$:\n",
    "$${\\bf A}^{-1}{\\bf A}{\\bf v} = {\\bf A}{\\bf A}^{-1}{\\bf v} = {\\bf v} $$"
   ]
  },
  {
   "cell_type": "code",
   "execution_count": 127,
   "metadata": {},
   "outputs": [
    {
     "data": {
      "text/plain": [
       "array([[ 0.,  0.],\n",
       "       [ 0.,  0.]])"
      ]
     },
     "execution_count": 127,
     "metadata": {},
     "output_type": "execute_result"
    }
   ],
   "source": [
    "I = np.eye(2)\n",
    "C = np.random.randn(2,2)\n",
    "C_inverse = np.linalg.inv(C)\n",
    "# Checking that $C\\times C^{-1} = I$:\n",
    "C.dot(C_inverse)-I"
   ]
  },
  {
   "cell_type": "markdown",
   "metadata": {},
   "source": [
    "### Singular matrices\n",
    "Not all matrices have an inverse. Those that do not are called **singular**"
   ]
  },
  {
   "cell_type": "code",
   "execution_count": 129,
   "metadata": {},
   "outputs": [
    {
     "name": "stdout",
     "output_type": "stream",
     "text": [
      "C=\n",
      " [[1 0]\n",
      " [1 0]]\n",
      "C cannot be inverted: it is a singular matrix\n"
     ]
    }
   ],
   "source": [
    "C=np.array([[1,0],[1,0]])\n",
    "print (\"C=\\n\",C)\n",
    "try:\n",
    "    C_inverse = np.linalg.inv(C)\n",
    "except: \n",
    "    print('C cannot be inverted: it is a singular matrix')"
   ]
  },
  {
   "cell_type": "markdown",
   "metadata": {
    "collapsed": true
   },
   "source": [
    "## Solving a system of linear equations"
   ]
  },
  {
   "cell_type": "markdown",
   "metadata": {
    "collapsed": true
   },
   "source": [
    "### When can you use `numpy.linlag.solve` ?\n",
    "The function `numpy.linlag.solve` can be used to solve a set of $n$ linear equations with $n$ unknowns.\n",
    "\n",
    "You simply express the set of equation in a matrix format ${\\bf Ax=b}$ and call `solve` using `x=solve(A,b)` the returned value is a vector with the solution for ${\\bf x}$.\n",
    "\n",
    "However the number of equations and the number of unknowns must be equal. \n",
    "* If the number of equations is **smaller** that the number of unknowns we say that the system is **underdetermined** or **singular**. It means that we don't have enough information to specify a unique solution. In data analysis this would rarely be the case.\n",
    "* If the number of equations is **larger** than the number of unknowns we say that the system if **overdetermined**. It means that there is no solution that satisfies all of the constraints. In data analysis this is a very common occurance, and we will discuss later."
   ]
  },
  {
   "cell_type": "markdown",
   "metadata": {
    "collapsed": true
   },
   "source": [
    "### Example\n",
    "Find the solution for the following set of 3 equations:\n",
    "$$\n",
    "x+y-z=5 \\\\\n",
    "z+2y=3 \\\\\n",
    "y-x=4\n",
    "$$"
   ]
  },
  {
   "cell_type": "code",
   "execution_count": 7,
   "metadata": {},
   "outputs": [
    {
     "data": {
      "text/plain": [
       "array([-1.,  3., -3.])"
      ]
     },
     "execution_count": 7,
     "metadata": {},
     "output_type": "execute_result"
    }
   ],
   "source": [
    "# Solution\n",
    "\n",
    "A=np.array([[1,1,-1],[0,2,1],[-1,1,0]])\n",
    "b=np.array([5,3,4])\n",
    "np.linalg.solve(A,b)"
   ]
  },
  {
   "cell_type": "markdown",
   "metadata": {
    "collapsed": true
   },
   "source": [
    "Which means that the solution is $x=-1,y=3,z=-3$\n",
    "\n",
    "Check that the solution is correct, i.e. that it satisfies the three constraints."
   ]
  },
  {
   "cell_type": "markdown",
   "metadata": {
    "collapsed": true
   },
   "source": [
    "When the number of points is larger than the number of dimensions we say that the \n",
    "system is **over-determined**. \n",
    "\n",
    "In this case we want to find a line that passes **close to** the points."
   ]
  },
  {
   "cell_type": "markdown",
   "metadata": {
    "collapsed": true
   },
   "source": [
    "## Finding a line passing through 2 points\n",
    "\n",
    "We are given two points in $R^2$: $[-1,2]$ and $[1,1]$, and we want to find the line passing through these points."
   ]
  },
  {
   "cell_type": "code",
   "execution_count": 10,
   "metadata": {},
   "outputs": [
    {
     "data": {
      "image/png": "[encoded data removed]",
      "text/plain": [
       "<matplotlib.figure.Figure at 0xe9850f07b8>"
      ]
     },
     "metadata": {},
     "output_type": "display_data"
    }
   ],
   "source": [
    "plt.figure(figsize=[8,6])\n",
    "p=np.array([[-1,2],[1,1]])\n",
    "plt.plot(p[:,0],p[:,1],'ro')\n",
    "plt.xlim([-1.1,1.1])\n",
    "plt.ylim([0,2.1])\n",
    "plt.grid()\n",
    "plt.title('we are looking for a line going through these 2 points');\n",
    "plt.show()"
   ]
  },
  {
   "cell_type": "markdown",
   "metadata": {},
   "source": [
    "Any line (other than vertical) can be expressed as $y=w_0+w_1x$ where $[x,y]$ are points along the line $w_0$ y-axis intercept and $w_1$ is the slope. <br>\n",
    "\n",
    "\n",
    "To identify the line that passes through the two points we need to find $w_0,w_1$ that satisfy two constraints:\n",
    "\n",
    "* The point $[x,y]=[-1,2]$ implies the constraint $w_0-w_1=2$\n",
    "* The point $[x,y]=[1,1]$ implies the constraint $w_0+w_1=1$\n",
    "\n"
   ]
  },
  {
   "cell_type": "markdown",
   "metadata": {},
   "source": [
    "We can write the two equations in matrix form as follows:\n",
    "$$\n",
    "\\begin{equation}\n",
    "\\begin{bmatrix} 1 & -1 \\\\\n",
    "\t   1 & 1\t\n",
    "\\end{bmatrix}\n",
    "\\begin{bmatrix} w_0 \\\\ w_1\t\n",
    "\\end{bmatrix}\n",
    "=\n",
    "\\begin{bmatrix} 2 \\\\ 1\t\n",
    "\\end{bmatrix}\n",
    "\\end{equation}\n",
    "$$\n",
    "Which we can write succinctly as ${\\bf A w = b}$"
   ]
  },
  {
   "cell_type": "markdown",
   "metadata": {},
   "source": [
    "* The coefficients matrix ${\\bf A} = \\begin{equation}\n",
    "\\begin{bmatrix} 1 & -1 \\\\\n",
    "\t   1 & 1\t\n",
    "\\end{bmatrix}\n",
    "\\end{equation} $\n",
    "* The *ordinate* or *dependent variable* vector: ${\\bf b}=\\begin{bmatrix} 2 \\\\ 1\t\\end{bmatrix}$\n",
    "* The parameter vector ${\\bf w} = \\begin{bmatrix} w_0 \\\\ w_1\t\\end{bmatrix}$"
   ]
  },
  {
   "cell_type": "markdown",
   "metadata": {},
   "source": [
    "**Goal:** Find ${\\bf w}$ such that  ${\\bf A w = b}$\n",
    "\n",
    "As ${\\bf A}$ is invertible we can multiply both sides by ${\\bf A^{-1}}$ and get:\n",
    "\n",
    "${\\bf w =  A^{-1} A w = A^{-1} b }$\n"
   ]
  },
  {
   "cell_type": "code",
   "execution_count": 11,
   "metadata": {
    "collapsed": true
   },
   "outputs": [],
   "source": [
    "def F(x,w):\n",
    "    return w[0]+w[1]*x"
   ]
  },
  {
   "cell_type": "code",
   "execution_count": 15,
   "metadata": {},
   "outputs": [
    {
     "data": {
      "image/png": "[encoded data removed]",
      "text/plain": [
       "<matplotlib.figure.Figure at 0xe9851d5320>"
      ]
     },
     "metadata": {},
     "output_type": "display_data"
    }
   ],
   "source": [
    "from numpy.linalg import solve\n",
    "\n",
    "A = np.array([[1,-1], [1,1]])\n",
    "b = np.array([[2],[1]])\n",
    "w = solve(A, b)\n",
    "\n",
    "\n",
    "plt.figure(figsize=[8,6])\n",
    "plt.plot(p[:,0],p[:,1],'ro')\n",
    "_xlim=[-1.1,1.1]\n",
    "plt.xlim(_xlim)\n",
    "plt.ylim([0,2.1])\n",
    "plt.plot(_xlim,[F(_xlim[0],w),F(_xlim[1],w)])\n",
    "plt.grid()\n",
    "plt.title('plotting the line going through the two points')\n",
    "plt.show()"
   ]
  },
  {
   "cell_type": "code",
   "execution_count": null,
   "metadata": {
    "collapsed": true
   },
   "outputs": [],
   "source": []
  },
  {
   "cell_type": "code",
   "execution_count": null,
   "metadata": {
    "collapsed": true
   },
   "outputs": [],
   "source": []
  },
  {
   "cell_type": "code",
   "execution_count": null,
   "metadata": {
    "collapsed": true
   },
   "outputs": [],
   "source": []
  },
  {
   "cell_type": "code",
   "execution_count": null,
   "metadata": {
    "collapsed": true
   },
   "outputs": [],
   "source": []
  },
  {
   "cell_type": "code",
   "execution_count": null,
   "metadata": {
    "collapsed": true
   },
   "outputs": [],
   "source": []
  },
  {
   "cell_type": "code",
   "execution_count": null,
   "metadata": {
    "collapsed": true
   },
   "outputs": [],
   "source": []
  },
  {
   "cell_type": "code",
   "execution_count": null,
   "metadata": {
    "collapsed": true
   },
   "outputs": [],
   "source": []
  },
  {
   "cell_type": "code",
   "execution_count": null,
   "metadata": {
    "collapsed": true
   },
   "outputs": [],
   "source": []
  },
  {
   "cell_type": "code",
   "execution_count": null,
   "metadata": {
    "collapsed": true
   },
   "outputs": [],
   "source": []
  },
  {
   "cell_type": "markdown",
   "metadata": {},
   "source": [
    "##### The exponential grows much faster than the polynomials"
   ]
  },
  {
   "cell_type": "code",
   "execution_count": 18,
   "metadata": {},
   "outputs": [
    {
     "data": {
      "application/vnd.jupyter.widget-view+json": {
       "model_id": "ea608e469c0f4f8c8ab9c8ab06d96068",
       "version_major": 2,
       "version_minor": 0
      },
      "text/plain": [
       "A Jupyter Widget"
      ]
     },
     "metadata": {},
     "output_type": "display_data"
    },
    {
     "data": {
      "text/plain": [
       "<function __main__.f>"
      ]
     },
     "execution_count": 18,
     "metadata": {},
     "output_type": "execute_result"
    }
   ],
   "source": [
    "def f(x_max):\n",
    "    x = np.arange(0, x_max, 0.01)\n",
    "    plt.plot(x, x, 'b', linewidth = 3, label = '$x$')\n",
    "    plt.plot(x, x**2, 'r', linewidth = 3, label = '$x^2$')\n",
    "    plt.plot(x, 2**x, 'm', linewidth = 3, label = '$2^x$')\n",
    "    plt.xlabel('x', fontsize = 20)\n",
    "    plt.xticks(fontsize = 18)\n",
    "    plt.yticks(np.linspace(max(2**x_max, x_max**2)/10, max(2**x_max, x_max**2), 10), fontsize = 18)\n",
    "    plt.gca().set_xlim([0, x_max])\n",
    "    plt.gca().set_ylim([0, max(2**x_max, x_max**2)])\n",
    "    plt.gcf().set_size_inches(20, 10)\n",
    "    plt.legend(fontsize = 20)\n",
    "    plt.show()\n",
    "    \n",
    "widgets.interact(f, x_max=widgets.FloatSlider(min = 0.5, max = 20, step = 0.5))"
   ]
  },
  {
   "cell_type": "markdown",
   "metadata": {},
   "source": [
    "### Useful functions"
   ]
  },
  {
   "cell_type": "markdown",
   "metadata": {},
   "source": [
    "[itertools](https://docs.python.org/2/library/itertools.html) --> product() , permutations(), combinations() , combinations_with_replacement(), ...  \n",
    "\n",
    "\n",
    "[scipy.special](https://docs.scipy.org/doc/scipy-1.0.0/reference/special.html)  --> comb, perm, binom, .... \n",
    "\n",
    "join, zip, all(), any(), [numpy.random.randint](https://docs.scipy.org/doc/numpy/reference/generated/numpy.random.randint.html#numpy-random-randint)"
   ]
  },
  {
   "cell_type": "code",
   "execution_count": null,
   "metadata": {
    "collapsed": true
   },
   "outputs": [],
   "source": [
    " "
   ]
  }
 ],
 "metadata": {
  "kernelspec": {
   "display_name": "Python 3",
   "language": "python",
   "name": "python3"
  },
  "language_info": {
   "codemirror_mode": {
    "name": "ipython",
    "version": 3
   },
   "file_extension": ".py",
   "mimetype": "text/x-python",
   "name": "python",
   "nbconvert_exporter": "python",
   "pygments_lexer": "ipython3",
   "version": "3.6.3"
  }
 },
 "nbformat": 4,
 "nbformat_minor": 2
}
